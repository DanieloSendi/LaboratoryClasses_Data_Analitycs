{
 "cells": [
  {
   "cell_type": "code",
   "execution_count": 2,
   "metadata": {},
   "outputs": [],
   "source": [
    "from cmdstanpy import CmdStanModel\n",
    "import pandas as pd\n",
    "import arviz as az \n",
    "import numpy as np\n",
    "import matplotlib.pyplot as plt\n",
    "import scipy.stats as stats"
   ]
  },
  {
   "cell_type": "markdown",
   "metadata": {},
   "source": [
    "## Excercise 1 -  Generated Quantities Block"
   ]
  },
  {
   "cell_type": "code",
   "execution_count": 3,
   "metadata": {},
   "outputs": [
    {
     "name": "stderr",
     "output_type": "stream",
     "text": [
      "INFO:cmdstanpy:compiling stan file /home/LaboratoryClasses_Data_Analitycs/Lab_2_Intro_to_stan/code_1.stan to exe file /home/LaboratoryClasses_Data_Analitycs/Lab_2_Intro_to_stan/code_1\n",
      "INFO:cmdstanpy:compiled model executable: /home/LaboratoryClasses_Data_Analitycs/Lab_2_Intro_to_stan/code_1\n",
      "WARNING:cmdstanpy:Stan compiler has produced 1 warnings:\n",
      "WARNING:cmdstanpy:g++ -std=c++1y -pthread -D_REENTRANT -Wno-sign-compare -Wno-ignored-attributes      -I stan/lib/stan_math/lib/tbb_2020.3/include    -O3 -I src -I stan/src -I lib/rapidjson_1.1.0/ -I lib/CLI11-1.9.1/ -I stan/lib/stan_math/ -I stan/lib/stan_math/lib/eigen_3.3.9 -I stan/lib/stan_math/lib/boost_1.75.0 -I stan/lib/stan_math/lib/sundials_6.0.0/include -I stan/lib/stan_math/lib/sundials_6.0.0/src/sundials    -DBOOST_DISABLE_ASSERTS          -c -MT stan/src/stan/model/model_header.hpp.gch -MT stan/src/stan/model/model_header.d -MM -E -MG -MP -MF stan/src/stan/model/model_header.d stan/src/stan/model/model_header.hpp\n",
      "g++ -std=c++1y -pthread -D_REENTRANT -Wno-sign-compare -Wno-ignored-attributes      -I stan/lib/stan_math/lib/tbb_2020.3/include    -O3 -I src -I stan/src -I lib/rapidjson_1.1.0/ -I lib/CLI11-1.9.1/ -I stan/lib/stan_math/ -I stan/lib/stan_math/lib/eigen_3.3.9 -I stan/lib/stan_math/lib/boost_1.75.0 -I stan/lib/stan_math/lib/sundials_6.0.0/include -I stan/lib/stan_math/lib/sundials_6.0.0/src/sundials    -DBOOST_DISABLE_ASSERTS          -c -MT src/cmdstan/main.o -MM -E -MG -MP -MF src/cmdstan/main.d src/cmdstan/main.cpp\n",
      "\n",
      "--- Translating Stan model to C++ code ---\n",
      "bin/stanc  --o=/home/LaboratoryClasses_Data_Analitycs/Lab_2_Intro_to_stan/code_1.hpp /home/LaboratoryClasses_Data_Analitycs/Lab_2_Intro_to_stan/code_1.stan\n",
      "Warning in '/home/LaboratoryClasses_Data_Analitycs/Lab_2_Intro_to_stan/code_1.stan', line 8, column 4: Declaration\n",
      "    of arrays by placing brackets after a variable name is deprecated and\n",
      "    will be removed in Stan 2.32.0. Instead use the array keyword before the\n",
      "    type. This can be changed automatically using the auto-format flag to\n",
      "    stanc\n",
      "\n",
      "--- Compiling, linking C++ code ---\n",
      "g++ -std=c++1y -pthread -D_REENTRANT -Wno-sign-compare -Wno-ignored-attributes      -I stan/lib/stan_math/lib/tbb_2020.3/include    -O3 -I src -I stan/src -I lib/rapidjson_1.1.0/ -I lib/CLI11-1.9.1/ -I stan/lib/stan_math/ -I stan/lib/stan_math/lib/eigen_3.3.9 -I stan/lib/stan_math/lib/boost_1.75.0 -I stan/lib/stan_math/lib/sundials_6.0.0/include -I stan/lib/stan_math/lib/sundials_6.0.0/src/sundials    -DBOOST_DISABLE_ASSERTS          -c -Wno-ignored-attributes   -x c++ -o /home/LaboratoryClasses_Data_Analitycs/Lab_2_Intro_to_stan/code_1.o /home/LaboratoryClasses_Data_Analitycs/Lab_2_Intro_to_stan/code_1.hpp\n",
      "g++ -std=c++1y -pthread -D_REENTRANT -Wno-sign-compare -Wno-ignored-attributes      -I stan/lib/stan_math/lib/tbb_2020.3/include    -O3 -I src -I stan/src -I lib/rapidjson_1.1.0/ -I lib/CLI11-1.9.1/ -I stan/lib/stan_math/ -I stan/lib/stan_math/lib/eigen_3.3.9 -I stan/lib/stan_math/lib/boost_1.75.0 -I stan/lib/stan_math/lib/sundials_6.0.0/include -I stan/lib/stan_math/lib/sundials_6.0.0/src/sundials    -DBOOST_DISABLE_ASSERTS                -Wl,-L,\"/opt/cmdstan-2.29.0/stan/lib/stan_math/lib/tbb\" -Wl,-rpath,\"/opt/cmdstan-2.29.0/stan/lib/stan_math/lib/tbb\"      /home/LaboratoryClasses_Data_Analitycs/Lab_2_Intro_to_stan/code_1.o src/cmdstan/main.o        -Wl,-L,\"/opt/cmdstan-2.29.0/stan/lib/stan_math/lib/tbb\" -Wl,-rpath,\"/opt/cmdstan-2.29.0/stan/lib/stan_math/lib/tbb\"   stan/lib/stan_math/lib/sundials_6.0.0/lib/libsundials_nvecserial.a stan/lib/stan_math/lib/sundials_6.0.0/lib/libsundials_cvodes.a stan/lib/stan_math/lib/sundials_6.0.0/lib/libsundials_idas.a stan/lib/stan_math/lib/sundials_6.0.0/lib/libsundials_kinsol.a  stan/lib/stan_math/lib/tbb/libtbb.so.2 -o /home/LaboratoryClasses_Data_Analitycs/Lab_2_Intro_to_stan/code_1\n",
      "rm -f /home/LaboratoryClasses_Data_Analitycs/Lab_2_Intro_to_stan/code_1.o\n",
      "\n"
     ]
    }
   ],
   "source": [
    "gen_quant = CmdStanModel(stan_file='code_1.stan')\n"
   ]
  },
  {
   "cell_type": "code",
   "execution_count": 4,
   "metadata": {},
   "outputs": [
    {
     "name": "stderr",
     "output_type": "stream",
     "text": [
      "INFO:cmdstanpy:CmdStan start processing\n",
      "chain 1 |\u001b[34m██████████\u001b[0m| 00:00 Sampling completed"
     ]
    },
    {
     "name": "stdout",
     "output_type": "stream",
     "text": [
      "                                                                                "
     ]
    },
    {
     "name": "stderr",
     "output_type": "stream",
     "text": [
      "\n",
      "INFO:cmdstanpy:CmdStan done processing.\n"
     ]
    },
    {
     "name": "stdout",
     "output_type": "stream",
     "text": [
      "\n"
     ]
    },
    {
     "data": {
      "text/html": [
       "<div>\n",
       "<style scoped>\n",
       "    .dataframe tbody tr th:only-of-type {\n",
       "        vertical-align: middle;\n",
       "    }\n",
       "\n",
       "    .dataframe tbody tr th {\n",
       "        vertical-align: top;\n",
       "    }\n",
       "\n",
       "    .dataframe thead th {\n",
       "        text-align: right;\n",
       "    }\n",
       "</style>\n",
       "<table border=\"1\" class=\"dataframe\">\n",
       "  <thead>\n",
       "    <tr style=\"text-align: right;\">\n",
       "      <th></th>\n",
       "      <th>lp__</th>\n",
       "      <th>accept_stat__</th>\n",
       "      <th>lambda</th>\n",
       "      <th>y_sim[1]</th>\n",
       "      <th>y_sim[2]</th>\n",
       "      <th>y_sim[3]</th>\n",
       "      <th>y_sim[4]</th>\n",
       "      <th>y_sim[5]</th>\n",
       "      <th>y_sim[6]</th>\n",
       "    </tr>\n",
       "  </thead>\n",
       "  <tbody>\n",
       "    <tr>\n",
       "      <th>0</th>\n",
       "      <td>0.0</td>\n",
       "      <td>0.0</td>\n",
       "      <td>113.11300</td>\n",
       "      <td>109.0</td>\n",
       "      <td>107.0</td>\n",
       "      <td>92.0</td>\n",
       "      <td>135.0</td>\n",
       "      <td>102.0</td>\n",
       "      <td>93.0</td>\n",
       "    </tr>\n",
       "    <tr>\n",
       "      <th>1</th>\n",
       "      <td>0.0</td>\n",
       "      <td>0.0</td>\n",
       "      <td>23.20910</td>\n",
       "      <td>22.0</td>\n",
       "      <td>25.0</td>\n",
       "      <td>25.0</td>\n",
       "      <td>28.0</td>\n",
       "      <td>21.0</td>\n",
       "      <td>23.0</td>\n",
       "    </tr>\n",
       "    <tr>\n",
       "      <th>2</th>\n",
       "      <td>0.0</td>\n",
       "      <td>0.0</td>\n",
       "      <td>96.37890</td>\n",
       "      <td>89.0</td>\n",
       "      <td>109.0</td>\n",
       "      <td>88.0</td>\n",
       "      <td>104.0</td>\n",
       "      <td>84.0</td>\n",
       "      <td>92.0</td>\n",
       "    </tr>\n",
       "    <tr>\n",
       "      <th>3</th>\n",
       "      <td>0.0</td>\n",
       "      <td>0.0</td>\n",
       "      <td>5.45159</td>\n",
       "      <td>6.0</td>\n",
       "      <td>6.0</td>\n",
       "      <td>4.0</td>\n",
       "      <td>7.0</td>\n",
       "      <td>4.0</td>\n",
       "      <td>7.0</td>\n",
       "    </tr>\n",
       "    <tr>\n",
       "      <th>4</th>\n",
       "      <td>0.0</td>\n",
       "      <td>0.0</td>\n",
       "      <td>234.01000</td>\n",
       "      <td>239.0</td>\n",
       "      <td>237.0</td>\n",
       "      <td>221.0</td>\n",
       "      <td>244.0</td>\n",
       "      <td>237.0</td>\n",
       "      <td>213.0</td>\n",
       "    </tr>\n",
       "    <tr>\n",
       "      <th>...</th>\n",
       "      <td>...</td>\n",
       "      <td>...</td>\n",
       "      <td>...</td>\n",
       "      <td>...</td>\n",
       "      <td>...</td>\n",
       "      <td>...</td>\n",
       "      <td>...</td>\n",
       "      <td>...</td>\n",
       "      <td>...</td>\n",
       "    </tr>\n",
       "    <tr>\n",
       "      <th>995</th>\n",
       "      <td>0.0</td>\n",
       "      <td>0.0</td>\n",
       "      <td>6.07543</td>\n",
       "      <td>3.0</td>\n",
       "      <td>1.0</td>\n",
       "      <td>9.0</td>\n",
       "      <td>5.0</td>\n",
       "      <td>8.0</td>\n",
       "      <td>3.0</td>\n",
       "    </tr>\n",
       "    <tr>\n",
       "      <th>996</th>\n",
       "      <td>0.0</td>\n",
       "      <td>0.0</td>\n",
       "      <td>218.21400</td>\n",
       "      <td>249.0</td>\n",
       "      <td>202.0</td>\n",
       "      <td>227.0</td>\n",
       "      <td>229.0</td>\n",
       "      <td>215.0</td>\n",
       "      <td>251.0</td>\n",
       "    </tr>\n",
       "    <tr>\n",
       "      <th>997</th>\n",
       "      <td>0.0</td>\n",
       "      <td>0.0</td>\n",
       "      <td>180.54200</td>\n",
       "      <td>188.0</td>\n",
       "      <td>188.0</td>\n",
       "      <td>188.0</td>\n",
       "      <td>188.0</td>\n",
       "      <td>171.0</td>\n",
       "      <td>195.0</td>\n",
       "    </tr>\n",
       "    <tr>\n",
       "      <th>998</th>\n",
       "      <td>0.0</td>\n",
       "      <td>0.0</td>\n",
       "      <td>52.21710</td>\n",
       "      <td>59.0</td>\n",
       "      <td>59.0</td>\n",
       "      <td>47.0</td>\n",
       "      <td>66.0</td>\n",
       "      <td>55.0</td>\n",
       "      <td>64.0</td>\n",
       "    </tr>\n",
       "    <tr>\n",
       "      <th>999</th>\n",
       "      <td>0.0</td>\n",
       "      <td>0.0</td>\n",
       "      <td>139.19800</td>\n",
       "      <td>166.0</td>\n",
       "      <td>139.0</td>\n",
       "      <td>127.0</td>\n",
       "      <td>137.0</td>\n",
       "      <td>141.0</td>\n",
       "      <td>135.0</td>\n",
       "    </tr>\n",
       "  </tbody>\n",
       "</table>\n",
       "<p>1000 rows × 9 columns</p>\n",
       "</div>"
      ],
      "text/plain": [
       "     lp__  accept_stat__     lambda  y_sim[1]  y_sim[2]  y_sim[3]  y_sim[4]  \\\n",
       "0     0.0            0.0  113.11300     109.0     107.0      92.0     135.0   \n",
       "1     0.0            0.0   23.20910      22.0      25.0      25.0      28.0   \n",
       "2     0.0            0.0   96.37890      89.0     109.0      88.0     104.0   \n",
       "3     0.0            0.0    5.45159       6.0       6.0       4.0       7.0   \n",
       "4     0.0            0.0  234.01000     239.0     237.0     221.0     244.0   \n",
       "..    ...            ...        ...       ...       ...       ...       ...   \n",
       "995   0.0            0.0    6.07543       3.0       1.0       9.0       5.0   \n",
       "996   0.0            0.0  218.21400     249.0     202.0     227.0     229.0   \n",
       "997   0.0            0.0  180.54200     188.0     188.0     188.0     188.0   \n",
       "998   0.0            0.0   52.21710      59.0      59.0      47.0      66.0   \n",
       "999   0.0            0.0  139.19800     166.0     139.0     127.0     137.0   \n",
       "\n",
       "     y_sim[5]  y_sim[6]  \n",
       "0       102.0      93.0  \n",
       "1        21.0      23.0  \n",
       "2        84.0      92.0  \n",
       "3         4.0       7.0  \n",
       "4       237.0     213.0  \n",
       "..        ...       ...  \n",
       "995       8.0       3.0  \n",
       "996     215.0     251.0  \n",
       "997     171.0     195.0  \n",
       "998      55.0      64.0  \n",
       "999     141.0     135.0  \n",
       "\n",
       "[1000 rows x 9 columns]"
      ]
     },
     "metadata": {},
     "output_type": "display_data"
    },
    {
     "data": {
      "image/png": "[encoded data removed]",
      "text/plain": [
       "<Figure size 1440x360 with 7 Axes>"
      ]
     },
     "metadata": {
      "needs_background": "light"
     },
     "output_type": "display_data"
    }
   ],
   "source": [
    "F = 6 #number of letters in first name\n",
    "\n",
    "samples = gen_quant.sample(data={'M': F}, \n",
    "                            fixed_param=True,\n",
    "                            iter_sampling=1000, \n",
    "                            iter_warmup=0, \n",
    "                            chains = 1)\n",
    "\n",
    "# Creation of pandas dataframe from resulting draws\n",
    "df = samples.draws_pd()\n",
    "display(df)\n",
    "\n",
    "#Plot a histogram for each of y_sim(poison distribution) and lambda(folded normal distribution)\n",
    "fig, axs = plt.subplots(1, 7, figsize=(20, 5))\n",
    "\n",
    "for i, data_title in enumerate(list(df.columns)[2:]):\n",
    "    axs[i].hist(df[data_title], bins='auto')\n",
    "    axs[i].set_title(data_title)\n",
    "    \n",
    "plt.show()\n",
    "    "
   ]
  },
  {
   "cell_type": "markdown",
   "metadata": {},
   "source": [
    "## Excercise 2 - Constraints on the data "
   ]
  },
  {
   "cell_type": "code",
   "execution_count": 5,
   "metadata": {},
   "outputs": [
    {
     "name": "stderr",
     "output_type": "stream",
     "text": [
      "INFO:cmdstanpy:compiling stan file /home/LaboratoryClasses_Data_Analitycs/Lab_2_Intro_to_stan/code_2.stan to exe file /home/LaboratoryClasses_Data_Analitycs/Lab_2_Intro_to_stan/code_2\n",
      "INFO:cmdstanpy:compiled model executable: /home/LaboratoryClasses_Data_Analitycs/Lab_2_Intro_to_stan/code_2\n",
      "WARNING:cmdstanpy:Stan compiler has produced 1 warnings:\n",
      "WARNING:cmdstanpy:\n",
      "--- Translating Stan model to C++ code ---\n",
      "bin/stanc  --o=/home/LaboratoryClasses_Data_Analitycs/Lab_2_Intro_to_stan/code_2.hpp /home/LaboratoryClasses_Data_Analitycs/Lab_2_Intro_to_stan/code_2.stan\n",
      "Warning in '/home/LaboratoryClasses_Data_Analitycs/Lab_2_Intro_to_stan/code_2.stan', line 3, column 4: Declaration\n",
      "    of arrays by placing brackets after a variable name is deprecated and\n",
      "    will be removed in Stan 2.32.0. Instead use the array keyword before the\n",
      "    type. This can be changed automatically using the auto-format flag to\n",
      "    stanc\n",
      "\n",
      "--- Compiling, linking C++ code ---\n",
      "g++ -std=c++1y -pthread -D_REENTRANT -Wno-sign-compare -Wno-ignored-attributes      -I stan/lib/stan_math/lib/tbb_2020.3/include    -O3 -I src -I stan/src -I lib/rapidjson_1.1.0/ -I lib/CLI11-1.9.1/ -I stan/lib/stan_math/ -I stan/lib/stan_math/lib/eigen_3.3.9 -I stan/lib/stan_math/lib/boost_1.75.0 -I stan/lib/stan_math/lib/sundials_6.0.0/include -I stan/lib/stan_math/lib/sundials_6.0.0/src/sundials    -DBOOST_DISABLE_ASSERTS          -c -Wno-ignored-attributes   -x c++ -o /home/LaboratoryClasses_Data_Analitycs/Lab_2_Intro_to_stan/code_2.o /home/LaboratoryClasses_Data_Analitycs/Lab_2_Intro_to_stan/code_2.hpp\n",
      "g++ -std=c++1y -pthread -D_REENTRANT -Wno-sign-compare -Wno-ignored-attributes      -I stan/lib/stan_math/lib/tbb_2020.3/include    -O3 -I src -I stan/src -I lib/rapidjson_1.1.0/ -I lib/CLI11-1.9.1/ -I stan/lib/stan_math/ -I stan/lib/stan_math/lib/eigen_3.3.9 -I stan/lib/stan_math/lib/boost_1.75.0 -I stan/lib/stan_math/lib/sundials_6.0.0/include -I stan/lib/stan_math/lib/sundials_6.0.0/src/sundials    -DBOOST_DISABLE_ASSERTS                -Wl,-L,\"/opt/cmdstan-2.29.0/stan/lib/stan_math/lib/tbb\" -Wl,-rpath,\"/opt/cmdstan-2.29.0/stan/lib/stan_math/lib/tbb\"      /home/LaboratoryClasses_Data_Analitycs/Lab_2_Intro_to_stan/code_2.o src/cmdstan/main.o        -Wl,-L,\"/opt/cmdstan-2.29.0/stan/lib/stan_math/lib/tbb\" -Wl,-rpath,\"/opt/cmdstan-2.29.0/stan/lib/stan_math/lib/tbb\"   stan/lib/stan_math/lib/sundials_6.0.0/lib/libsundials_nvecserial.a stan/lib/stan_math/lib/sundials_6.0.0/lib/libsundials_cvodes.a stan/lib/stan_math/lib/sundials_6.0.0/lib/libsundials_idas.a stan/lib/stan_math/lib/sundials_6.0.0/lib/libsundials_kinsol.a  stan/lib/stan_math/lib/tbb/libtbb.so.2 -o /home/LaboratoryClasses_Data_Analitycs/Lab_2_Intro_to_stan/code_2\n",
      "rm -f /home/LaboratoryClasses_Data_Analitycs/Lab_2_Intro_to_stan/code_2.o\n",
      "\n",
      "INFO:cmdstanpy:CmdStan start processing\n",
      "chain 1 |\u001b[33m          \u001b[0m| 00:00 Status\n",
      "\u001b[A\n",
      "\n",
      "chain 1 |\u001b[34m██████████\u001b[0m| 00:00 Sampling completed\n",
      "chain 2 |\u001b[34m██████████\u001b[0m| 00:00 Sampling completed\n",
      "chain 3 |\u001b[34m██████████\u001b[0m| 00:00 Sampling completed\n",
      "chain 4 |\u001b[34m██████████\u001b[0m| 00:00 Sampling completed"
     ]
    },
    {
     "name": "stdout",
     "output_type": "stream",
     "text": [
      "                                                                                                                                                                                                                                                                                                                                "
     ]
    },
    {
     "name": "stderr",
     "output_type": "stream",
     "text": [
      "\n",
      "INFO:cmdstanpy:CmdStan done processing.\n"
     ]
    },
    {
     "name": "stdout",
     "output_type": "stream",
     "text": [
      "\n"
     ]
    }
   ],
   "source": [
    "bern1 = CmdStanModel(stan_file='code_2.stan')\n",
    "samp_bern1 = bern1.sample(data={'N':2, 'y':[0,1]})\n"
   ]
  },
  {
   "cell_type": "code",
   "execution_count": 6,
   "metadata": {},
   "outputs": [
    {
     "name": "stderr",
     "output_type": "stream",
     "text": [
      "INFO:cmdstanpy:compiling stan file /home/LaboratoryClasses_Data_Analitycs/Lab_2_Intro_to_stan/code_3.stan to exe file /home/LaboratoryClasses_Data_Analitycs/Lab_2_Intro_to_stan/code_3\n",
      "INFO:cmdstanpy:compiled model executable: /home/LaboratoryClasses_Data_Analitycs/Lab_2_Intro_to_stan/code_3\n",
      "WARNING:cmdstanpy:Stan compiler has produced 1 warnings:\n",
      "WARNING:cmdstanpy:\n",
      "--- Translating Stan model to C++ code ---\n",
      "bin/stanc  --o=/home/LaboratoryClasses_Data_Analitycs/Lab_2_Intro_to_stan/code_3.hpp /home/LaboratoryClasses_Data_Analitycs/Lab_2_Intro_to_stan/code_3.stan\n",
      "Warning in '/home/LaboratoryClasses_Data_Analitycs/Lab_2_Intro_to_stan/code_3.stan', line 3, column 3: Declaration\n",
      "    of arrays by placing brackets after a variable name is deprecated and\n",
      "    will be removed in Stan 2.32.0. Instead use the array keyword before the\n",
      "    type. This can be changed automatically using the auto-format flag to\n",
      "    stanc\n",
      "\n",
      "--- Compiling, linking C++ code ---\n",
      "g++ -std=c++1y -pthread -D_REENTRANT -Wno-sign-compare -Wno-ignored-attributes      -I stan/lib/stan_math/lib/tbb_2020.3/include    -O3 -I src -I stan/src -I lib/rapidjson_1.1.0/ -I lib/CLI11-1.9.1/ -I stan/lib/stan_math/ -I stan/lib/stan_math/lib/eigen_3.3.9 -I stan/lib/stan_math/lib/boost_1.75.0 -I stan/lib/stan_math/lib/sundials_6.0.0/include -I stan/lib/stan_math/lib/sundials_6.0.0/src/sundials    -DBOOST_DISABLE_ASSERTS          -c -Wno-ignored-attributes   -x c++ -o /home/LaboratoryClasses_Data_Analitycs/Lab_2_Intro_to_stan/code_3.o /home/LaboratoryClasses_Data_Analitycs/Lab_2_Intro_to_stan/code_3.hpp\n",
      "g++ -std=c++1y -pthread -D_REENTRANT -Wno-sign-compare -Wno-ignored-attributes      -I stan/lib/stan_math/lib/tbb_2020.3/include    -O3 -I src -I stan/src -I lib/rapidjson_1.1.0/ -I lib/CLI11-1.9.1/ -I stan/lib/stan_math/ -I stan/lib/stan_math/lib/eigen_3.3.9 -I stan/lib/stan_math/lib/boost_1.75.0 -I stan/lib/stan_math/lib/sundials_6.0.0/include -I stan/lib/stan_math/lib/sundials_6.0.0/src/sundials    -DBOOST_DISABLE_ASSERTS                -Wl,-L,\"/opt/cmdstan-2.29.0/stan/lib/stan_math/lib/tbb\" -Wl,-rpath,\"/opt/cmdstan-2.29.0/stan/lib/stan_math/lib/tbb\"      /home/LaboratoryClasses_Data_Analitycs/Lab_2_Intro_to_stan/code_3.o src/cmdstan/main.o        -Wl,-L,\"/opt/cmdstan-2.29.0/stan/lib/stan_math/lib/tbb\" -Wl,-rpath,\"/opt/cmdstan-2.29.0/stan/lib/stan_math/lib/tbb\"   stan/lib/stan_math/lib/sundials_6.0.0/lib/libsundials_nvecserial.a stan/lib/stan_math/lib/sundials_6.0.0/lib/libsundials_cvodes.a stan/lib/stan_math/lib/sundials_6.0.0/lib/libsundials_idas.a stan/lib/stan_math/lib/sundials_6.0.0/lib/libsundials_kinsol.a  stan/lib/stan_math/lib/tbb/libtbb.so.2 -o /home/LaboratoryClasses_Data_Analitycs/Lab_2_Intro_to_stan/code_3\n",
      "rm -f /home/LaboratoryClasses_Data_Analitycs/Lab_2_Intro_to_stan/code_3.o\n",
      "\n",
      "INFO:cmdstanpy:CmdStan start processing\n",
      "chain 1 |\u001b[33m          \u001b[0m| 00:00 Status\n",
      "\u001b[A\n",
      "\n",
      "chain 1 |\u001b[34m██████████\u001b[0m| 00:00 Sampling completed\n",
      "chain 2 |\u001b[34m██████████\u001b[0m| 00:00 Sampling completed\n",
      "chain 3 |\u001b[34m██████████\u001b[0m| 00:00 Sampling completed\n",
      "chain 4 |\u001b[34m██████████\u001b[0m| 00:00 Sampling completed"
     ]
    },
    {
     "name": "stdout",
     "output_type": "stream",
     "text": [
      "                                                                                                                                                                                                                                                                                                                                "
     ]
    },
    {
     "name": "stderr",
     "output_type": "stream",
     "text": [
      "\n",
      "INFO:cmdstanpy:CmdStan done processing.\n"
     ]
    },
    {
     "name": "stdout",
     "output_type": "stream",
     "text": [
      "\n"
     ]
    }
   ],
   "source": [
    "bern2 = CmdStanModel(stan_file='code_3.stan')\n",
    "samp_bern2 = bern2.sample(data={'N':2, 'y':[0,1]})\n",
    "\n",
    "\n",
    "# 1.The main difference between code_2.stan and code_3.stan is in the lower bound constraint on the parameter N. \n",
    "#In code_2.stan, N can take any positive integer value, including 1, whereas in code_3.stan, N must be greater than or equal to 1. \n",
    "#This means that the model defined in code_3.stan is more restrictive than the one in code_2.stan.\n",
    "\n",
    "#This difference in constraints means that code_3.stan ensures that there is at least one observation in the data, \n",
    "#which is necessary for the model to be well-defined. In contrast, code_2.stan allows for the possibility of an empty dataset, \n",
    "#which would not be valid for this model"
   ]
  },
  {
   "cell_type": "markdown",
   "metadata": {},
   "source": [
    "## Excercise 3 - Constraints on parameters"
   ]
  },
  {
   "cell_type": "markdown",
   "metadata": {},
   "source": [
    "### Unconstrained parameters"
   ]
  },
  {
   "cell_type": "code",
   "execution_count": 7,
   "metadata": {},
   "outputs": [
    {
     "name": "stderr",
     "output_type": "stream",
     "text": [
      "INFO:cmdstanpy:compiling stan file /home/LaboratoryClasses_Data_Analitycs/Lab_2_Intro_to_stan/code_4.stan to exe file /home/LaboratoryClasses_Data_Analitycs/Lab_2_Intro_to_stan/code_4\n",
      "INFO:cmdstanpy:compiled model executable: /home/LaboratoryClasses_Data_Analitycs/Lab_2_Intro_to_stan/code_4\n",
      "INFO:cmdstanpy:created output directory: /home/LaboratoryClasses_Data_Analitycs/Lab_2_Intro_to_stan/samples\n",
      "INFO:cmdstanpy:CmdStan start processing\n",
      "chain 1 |\u001b[33m          \u001b[0m| 00:00 Status\n",
      "\u001b[A\n",
      "\n",
      "chain 1 |\u001b[33m▏         \u001b[0m| 00:00 Status\n",
      "\u001b[A\n",
      "\n",
      "chain 1 |\u001b[34m█▉        \u001b[0m| 00:00 Iteration: 1100 / 7000 [ 15%]  (Sampling)\n",
      "\n",
      "\u001b[A\u001b[A\n",
      "\u001b[A\n",
      "\n",
      "\u001b[A\u001b[A\n",
      "chain 1 |\u001b[34m███       \u001b[0m| 00:00 Iteration: 1900 / 7000 [ 27%]  (Sampling)\n",
      "\n",
      "\u001b[A\u001b[A\n",
      "chain 1 |\u001b[34m███▉      \u001b[0m| 00:00 Iteration: 2500 / 7000 [ 35%]  (Sampling)\n",
      "\n",
      "\u001b[A\u001b[A\n",
      "chain 1 |\u001b[34m████▍     \u001b[0m| 00:01 Iteration: 2900 / 7000 [ 41%]  (Sampling)\n",
      "\u001b[A\n",
      "\n",
      "chain 1 |\u001b[34m█████     \u001b[0m| 00:01 Iteration: 3300 / 7000 [ 47%]  (Sampling)\n",
      "\u001b[A\n",
      "\n",
      "chain 1 |\u001b[34m█████▌    \u001b[0m| 00:01 Iteration: 3700 / 7000 [ 52%]  (Sampling)\n",
      "\u001b[A\n",
      "\n",
      "chain 1 |\u001b[34m█████▉    \u001b[0m| 00:01 Iteration: 4000 / 7000 [ 57%]  (Sampling)\n",
      "\n",
      "\u001b[A\u001b[A\n",
      "chain 1 |\u001b[34m██████▍   \u001b[0m| 00:01 Iteration: 4300 / 7000 [ 61%]  (Sampling)\n",
      "\u001b[A\n",
      "\n",
      "chain 1 |\u001b[34m██████▊   \u001b[0m| 00:01 Iteration: 4600 / 7000 [ 65%]  (Sampling)\n",
      "\u001b[A\n",
      "\n",
      "chain 1 |\u001b[34m███████▏  \u001b[0m| 00:01 Iteration: 4900 / 7000 [ 70%]  (Sampling)\n",
      "\u001b[A\n",
      "\n",
      "chain 1 |\u001b[34m███████▋  \u001b[0m| 00:02 Iteration: 5200 / 7000 [ 74%]  (Sampling)\n",
      "\u001b[A\n",
      "\n",
      "chain 1 |\u001b[34m████████  \u001b[0m| 00:02 Iteration: 5500 / 7000 [ 78%]  (Sampling)\n",
      "\u001b[A\n",
      "\n",
      "chain 1 |\u001b[34m████████▍ \u001b[0m| 00:02 Iteration: 5800 / 7000 [ 82%]  (Sampling)\n",
      "\u001b[A\n",
      "\n",
      "chain 1 |\u001b[34m████████▉ \u001b[0m| 00:02 Iteration: 6100 / 7000 [ 87%]  (Sampling)\n",
      "\u001b[A\n",
      "\n",
      "chain 1 |\u001b[34m█████████▎\u001b[0m| 00:02 Iteration: 6400 / 7000 [ 91%]  (Sampling)\n",
      "\u001b[A\n",
      "\n",
      "chain 1 |\u001b[34m█████████▋\u001b[0m| 00:02 Iteration: 6700 / 7000 [ 95%]  (Sampling)\n",
      "\u001b[A\n",
      "\n",
      "chain 1 |\u001b[34m██████████\u001b[0m| 00:02 Sampling completed                       \n",
      "chain 2 |\u001b[34m██████████\u001b[0m| 00:02 Sampling completed                       \n",
      "chain 3 |\u001b[34m██████████\u001b[0m| 00:02 Sampling completed                       \n",
      "chain 4 |\u001b[34m██████████\u001b[0m| 00:02 Sampling completed                       "
     ]
    },
    {
     "name": "stdout",
     "output_type": "stream",
     "text": [
      "                                                                                                                                                                                                                                                                                                                                "
     ]
    },
    {
     "name": "stderr",
     "output_type": "stream",
     "text": [
      "\n",
      "INFO:cmdstanpy:CmdStan done processing.\n"
     ]
    },
    {
     "name": "stdout",
     "output_type": "stream",
     "text": [
      "\n"
     ]
    },
    {
     "data": {
      "text/plain": [
       "\"Processing csv files: /home/LaboratoryClasses_Data_Analitycs/Lab_2_Intro_to_stan/samples/code_4-20230319015423_1.csv, /home/LaboratoryClasses_Data_Analitycs/Lab_2_Intro_to_stan/samples/code_4-20230319015423_2.csv, /home/LaboratoryClasses_Data_Analitycs/Lab_2_Intro_to_stan/samples/code_4-20230319015423_3.csv, /home/LaboratoryClasses_Data_Analitycs/Lab_2_Intro_to_stan/samples/code_4-20230319015423_4.csv\\n\\nChecking sampler transitions treedepth.\\nTreedepth satisfactory for all transitions.\\n\\nChecking sampler transitions for divergences.\\n9489 of 24000 (39.54%) transitions ended with a divergence.\\nThese divergent transitions indicate that HMC is not fully able to explore the posterior distribution.\\nTry increasing adapt delta closer to 1.\\nIf this doesn't remove all divergences, try to reparameterize the model.\\n\\nChecking E-BFMI - sampler transitions HMC potential energy.\\nE-BFMI satisfactory.\\n\\nEffective sample size satisfactory.\\n\\nSplit R-hat values satisfactory all parameters.\\n\\nProcessing complete.\\n\""
      ]
     },
     "execution_count": 7,
     "metadata": {},
     "output_type": "execute_result"
    }
   ],
   "source": [
    "model_gm1 = CmdStanModel(stan_file='code_4.stan')\n",
    "out_gamma1 = model_gm1.sample(output_dir='samples',iter_sampling=6000,iter_warmup=1000, seed=4838282)\n",
    "out_gamma1.diagnose()\n"
   ]
  },
  {
   "cell_type": "code",
   "execution_count": 8,
   "metadata": {},
   "outputs": [
    {
     "name": "stderr",
     "output_type": "stream",
     "text": [
      "No artists with labels found to put in legend.  Note that artists whose label start with an underscore are ignored when legend() is called with no argument.\n"
     ]
    },
    {
     "data": {
      "image/png": "[encoded data removed]",
      "text/plain": [
       "<Figure size 432x288 with 1 Axes>"
      ]
     },
     "metadata": {
      "needs_background": "light"
     },
     "output_type": "display_data"
    }
   ],
   "source": [
    "N=500\n",
    "xs = np.linspace(0,8,N)\n",
    "pdfs = stats.gamma.pdf(xs, 1.25, scale = 1 / 1.25) \n",
    "\n",
    "plt.plot(xs, pdfs, linewidth=2, color = 'red')\n",
    "\n",
    "## add histogram of theta samples with 160 bins\n",
    "df = out_gamma1.draws_pd()\n",
    "\n",
    "plt.hist(df['theta'], bins=160, density = True)\n",
    "plt.gca().set_xlabel(\"theta\")\n",
    "plt.gca().set_ylabel(\"Probability Density Function\")\n",
    "plt.legend()\n",
    "plt.show()\n"
   ]
  },
  {
   "cell_type": "markdown",
   "metadata": {},
   "source": [
    "### Constrained parameter"
   ]
  },
  {
   "cell_type": "code",
   "execution_count": 9,
   "metadata": {},
   "outputs": [
    {
     "name": "stderr",
     "output_type": "stream",
     "text": [
      "INFO:cmdstanpy:compiling stan file /home/LaboratoryClasses_Data_Analitycs/Lab_2_Intro_to_stan/code_5.stan to exe file /home/LaboratoryClasses_Data_Analitycs/Lab_2_Intro_to_stan/code_5\n",
      "INFO:cmdstanpy:compiled model executable: /home/LaboratoryClasses_Data_Analitycs/Lab_2_Intro_to_stan/code_5\n",
      "INFO:cmdstanpy:CmdStan start processing\n",
      "chain 1 |\u001b[33m          \u001b[0m| 00:00 Status\n",
      "\u001b[A\n",
      "\n",
      "\u001b[A\u001b[A\n",
      "\n",
      "chain 1 |\u001b[34m█▊        \u001b[0m| 00:00 Iteration: 1001 / 7000 [ 14%]  (Sampling)\n",
      "chain 1 |\u001b[34m███▏      \u001b[0m| 00:00 Iteration: 2000 / 7000 [ 28%]  (Sampling)\n",
      "\u001b[A\n",
      "\n",
      "chain 1 |\u001b[34m████      \u001b[0m| 00:00 Iteration: 2600 / 7000 [ 37%]  (Sampling)\n",
      "\u001b[A\n",
      "\n",
      "chain 1 |\u001b[34m████▌     \u001b[0m| 00:00 Iteration: 3000 / 7000 [ 42%]  (Sampling)\n",
      "\u001b[A\n",
      "\n",
      "chain 1 |\u001b[34m█████▏    \u001b[0m| 00:01 Iteration: 3400 / 7000 [ 48%]  (Sampling)\n",
      "\u001b[A\n",
      "\n",
      "chain 1 |\u001b[34m█████▋    \u001b[0m| 00:01 Iteration: 3800 / 7000 [ 54%]  (Sampling)\n",
      "chain 1 |\u001b[34m██████    \u001b[0m| 00:01 Iteration: 4100 / 7000 [ 58%]  (Sampling)\n",
      "\n",
      "\u001b[A\u001b[A\n",
      "chain 1 |\u001b[34m██████▌   \u001b[0m| 00:01 Iteration: 4400 / 7000 [ 62%]  (Sampling)\n",
      "\n",
      "\u001b[A\u001b[A\n",
      "chain 1 |\u001b[34m██████▉   \u001b[0m| 00:01 Iteration: 4700 / 7000 [ 67%]  (Sampling)\n",
      "\n",
      "\u001b[A\u001b[A\n",
      "chain 1 |\u001b[34m███████▎  \u001b[0m| 00:01 Iteration: 5000 / 7000 [ 71%]  (Sampling)\n",
      "\n",
      "\u001b[A\u001b[A\n",
      "chain 1 |\u001b[34m███████▊  \u001b[0m| 00:01 Iteration: 5300 / 7000 [ 75%]  (Sampling)\n",
      "\n",
      "\u001b[A\u001b[A\n",
      "chain 1 |\u001b[34m████████▏ \u001b[0m| 00:02 Iteration: 5600 / 7000 [ 80%]  (Sampling)\n",
      "\n",
      "\u001b[A\u001b[A\n",
      "chain 1 |\u001b[34m████████▌ \u001b[0m| 00:02 Iteration: 5900 / 7000 [ 84%]  (Sampling)\n",
      "\n",
      "\u001b[A\u001b[A\n",
      "chain 1 |\u001b[34m█████████ \u001b[0m| 00:02 Iteration: 6200 / 7000 [ 88%]  (Sampling)\n",
      "\n",
      "\u001b[A\u001b[A\n",
      "chain 1 |\u001b[34m█████████▍\u001b[0m| 00:02 Iteration: 6500 / 7000 [ 92%]  (Sampling)\n",
      "\n",
      "\u001b[A\u001b[A\n",
      "chain 1 |\u001b[34m██████████\u001b[0m| 00:02 Sampling completed                       \n",
      "chain 2 |\u001b[34m██████████\u001b[0m| 00:02 Sampling completed                       \n",
      "chain 3 |\u001b[34m██████████\u001b[0m| 00:02 Sampling completed                       \n",
      "chain 4 |\u001b[34m██████████\u001b[0m| 00:02 Sampling completed                       "
     ]
    },
    {
     "name": "stdout",
     "output_type": "stream",
     "text": [
      "                                                                                                                                                                                                                                                                                                                                "
     ]
    },
    {
     "name": "stderr",
     "output_type": "stream",
     "text": [
      "\n",
      "INFO:cmdstanpy:CmdStan done processing.\n"
     ]
    },
    {
     "name": "stdout",
     "output_type": "stream",
     "text": [
      "\n"
     ]
    },
    {
     "data": {
      "text/plain": [
       "\"Processing csv files: /home/LaboratoryClasses_Data_Analitycs/Lab_2_Intro_to_stan/samples/code_5-20230319015436_1.csv, /home/LaboratoryClasses_Data_Analitycs/Lab_2_Intro_to_stan/samples/code_5-20230319015436_2.csv, /home/LaboratoryClasses_Data_Analitycs/Lab_2_Intro_to_stan/samples/code_5-20230319015436_3.csv, /home/LaboratoryClasses_Data_Analitycs/Lab_2_Intro_to_stan/samples/code_5-20230319015436_4.csv\\n\\nChecking sampler transitions treedepth.\\nTreedepth satisfactory for all transitions.\\n\\nChecking sampler transitions for divergences.\\n2 of 24000 (0.01%) transitions ended with a divergence.\\nThese divergent transitions indicate that HMC is not fully able to explore the posterior distribution.\\nTry increasing adapt delta closer to 1.\\nIf this doesn't remove all divergences, try to reparameterize the model.\\n\\nChecking E-BFMI - sampler transitions HMC potential energy.\\nE-BFMI satisfactory.\\n\\nEffective sample size satisfactory.\\n\\nSplit R-hat values satisfactory all parameters.\\n\\nProcessing complete.\\n\""
      ]
     },
     "execution_count": 9,
     "metadata": {},
     "output_type": "execute_result"
    }
   ],
   "source": [
    "model_gm2 = CmdStanModel(stan_file='code_5.stan')\n",
    "out_gamma2 = model_gm2.sample(output_dir='samples',iter_sampling=6000,iter_warmup=1000, seed=4838282)\n",
    "out_gamma2.diagnose()"
   ]
  },
  {
   "cell_type": "code",
   "execution_count": 10,
   "metadata": {},
   "outputs": [
    {
     "data": {
      "image/png": "[encoded data removed]",
      "text/plain": [
       "<Figure size 432x288 with 1 Axes>"
      ]
     },
     "metadata": {
      "needs_background": "light"
     },
     "output_type": "display_data"
    }
   ],
   "source": [
    "N=500\n",
    "xs = np.linspace(0,8,N)\n",
    "pdfs = stats.gamma.pdf(xs, 1.25, scale = 1 / 1.25) \n",
    "\n",
    "plt.plot(xs, pdfs, linewidth=2, color = 'blue')\n",
    "\n",
    "## add histogram of theta samples from the second model with 160 bins\n",
    "df = out_gamma2.draws_pd()\n",
    "\n",
    "plt.hist(df['theta'], bins=160, density = True, color = 'red')\n",
    "plt.gca().set_xlabel(\"theta\")\n",
    "plt.gca().set_ylabel(\"Probability Density Function\")\n",
    "plt.show()"
   ]
  },
  {
   "cell_type": "markdown",
   "metadata": {},
   "source": [
    "## Excercise 4 -  Selection of parameters using equation solving\n",
    "\n"
   ]
  },
  {
   "cell_type": "code",
   "execution_count": 11,
   "metadata": {},
   "outputs": [
    {
     "name": "stderr",
     "output_type": "stream",
     "text": [
      "INFO:cmdstanpy:compiling stan file /home/LaboratoryClasses_Data_Analitycs/Lab_2_Intro_to_stan/code_6.stan to exe file /home/LaboratoryClasses_Data_Analitycs/Lab_2_Intro_to_stan/code_6\n",
      "INFO:cmdstanpy:compiled model executable: /home/LaboratoryClasses_Data_Analitycs/Lab_2_Intro_to_stan/code_6\n",
      "WARNING:cmdstanpy:Stan compiler has produced 5 warnings:\n",
      "WARNING:cmdstanpy:\n",
      "--- Translating Stan model to C++ code ---\n",
      "bin/stanc  --o=/home/LaboratoryClasses_Data_Analitycs/Lab_2_Intro_to_stan/code_6.hpp /home/LaboratoryClasses_Data_Analitycs/Lab_2_Intro_to_stan/code_6.stan\n",
      "Warning in '/home/LaboratoryClasses_Data_Analitycs/Lab_2_Intro_to_stan/code_6.stan', line 3, column 44: Declaration\n",
      "    of arrays by placing brackets after a type is deprecated and will be\n",
      "    removed in Stan 2.32.0. Instead use the array keyword before the type.\n",
      "    This can be changed automatically using the auto-format flag to stanc\n",
      "Warning in '/home/LaboratoryClasses_Data_Analitycs/Lab_2_Intro_to_stan/code_6.stan', line 3, column 56: Declaration\n",
      "    of arrays by placing brackets after a type is deprecated and will be\n",
      "    removed in Stan 2.32.0. Instead use the array keyword before the type.\n",
      "    This can be changed automatically using the auto-format flag to stanc\n",
      "Warning in '/home/LaboratoryClasses_Data_Analitycs/Lab_2_Intro_to_stan/code_6.stan', line 19, column 2: Declaration\n",
      "    of arrays by placing brackets after a variable name is deprecated and\n",
      "    will be removed in Stan 2.32.0. Instead use the array keyword before the\n",
      "    type. This can be changed automatically using the auto-format flag to\n",
      "    stanc\n",
      "Warning in '/home/LaboratoryClasses_Data_Analitycs/Lab_2_Intro_to_stan/code_6.stan', line 20, column 2: Declaration\n",
      "    of arrays by placing brackets after a variable name is deprecated and\n",
      "    will be removed in Stan 2.32.0. Instead use the array keyword before the\n",
      "    type. This can be changed automatically using the auto-format flag to\n",
      "    stanc\n",
      "Warning in '/home/LaboratoryClasses_Data_Analitycs/Lab_2_Intro_to_stan/code_6.stan', line 5, column 21: Use\n",
      "    of normal_cdf without a vertical bar (|) between the first two arguments\n",
      "    of a CDF is deprecated and will be removed in Stan 2.32.0. This can be\n",
      "    automatically changed using the canonicalize flag for stanc\n",
      "\n",
      "--- Compiling, linking C++ code ---\n",
      "g++ -std=c++1y -pthread -D_REENTRANT -Wno-sign-compare -Wno-ignored-attributes      -I stan/lib/stan_math/lib/tbb_2020.3/include    -O3 -I src -I stan/src -I lib/rapidjson_1.1.0/ -I lib/CLI11-1.9.1/ -I stan/lib/stan_math/ -I stan/lib/stan_math/lib/eigen_3.3.9 -I stan/lib/stan_math/lib/boost_1.75.0 -I stan/lib/stan_math/lib/sundials_6.0.0/include -I stan/lib/stan_math/lib/sundials_6.0.0/src/sundials    -DBOOST_DISABLE_ASSERTS          -c -Wno-ignored-attributes   -x c++ -o /home/LaboratoryClasses_Data_Analitycs/Lab_2_Intro_to_stan/code_6.o /home/LaboratoryClasses_Data_Analitycs/Lab_2_Intro_to_stan/code_6.hpp\n",
      "g++ -std=c++1y -pthread -D_REENTRANT -Wno-sign-compare -Wno-ignored-attributes      -I stan/lib/stan_math/lib/tbb_2020.3/include    -O3 -I src -I stan/src -I lib/rapidjson_1.1.0/ -I lib/CLI11-1.9.1/ -I stan/lib/stan_math/ -I stan/lib/stan_math/lib/eigen_3.3.9 -I stan/lib/stan_math/lib/boost_1.75.0 -I stan/lib/stan_math/lib/sundials_6.0.0/include -I stan/lib/stan_math/lib/sundials_6.0.0/src/sundials    -DBOOST_DISABLE_ASSERTS                -Wl,-L,\"/opt/cmdstan-2.29.0/stan/lib/stan_math/lib/tbb\" -Wl,-rpath,\"/opt/cmdstan-2.29.0/stan/lib/stan_math/lib/tbb\"      /home/LaboratoryClasses_Data_Analitycs/Lab_2_Intro_to_stan/code_6.o src/cmdstan/main.o        -Wl,-L,\"/opt/cmdstan-2.29.0/stan/lib/stan_math/lib/tbb\" -Wl,-rpath,\"/opt/cmdstan-2.29.0/stan/lib/stan_math/lib/tbb\"   stan/lib/stan_math/lib/sundials_6.0.0/lib/libsundials_nvecserial.a stan/lib/stan_math/lib/sundials_6.0.0/lib/libsundials_cvodes.a stan/lib/stan_math/lib/sundials_6.0.0/lib/libsundials_idas.a stan/lib/stan_math/lib/sundials_6.0.0/lib/libsundials_kinsol.a  stan/lib/stan_math/lib/tbb/libtbb.so.2 -o /home/LaboratoryClasses_Data_Analitycs/Lab_2_Intro_to_stan/code_6\n",
      "rm -f /home/LaboratoryClasses_Data_Analitycs/Lab_2_Intro_to_stan/code_6.o\n",
      "\n",
      "INFO:cmdstanpy:CmdStan start processing\n",
      "chain 1 |\u001b[34m██████████\u001b[0m| 00:00 Sampling completed"
     ]
    },
    {
     "name": "stdout",
     "output_type": "stream",
     "text": [
      "                                                                                "
     ]
    },
    {
     "name": "stderr",
     "output_type": "stream",
     "text": [
      "\n",
      "INFO:cmdstanpy:CmdStan done processing.\n"
     ]
    },
    {
     "name": "stdout",
     "output_type": "stream",
     "text": [
      "\n"
     ]
    },
    {
     "data": {
      "image/png": "[encoded data removed]",
      "text/plain": [
       "<Figure size 432x432 with 1 Axes>"
      ]
     },
     "metadata": {
      "needs_background": "light"
     },
     "output_type": "display_data"
    }
   ],
   "source": [
    "model_tune = CmdStanModel(stan_file='code_6.stan')\n",
    "\n",
    "# number of letters in the first name\n",
    "F = 6\n",
    "\n",
    "# number of letters in the last name\n",
    "L = 6\n",
    " \n",
    "# initial guess for the equation solving\n",
    "y0 = 1\n",
    "\n",
    "data={'y_guess':[y0],\n",
    "        'theta':[(F+L)/2]}\n",
    "tunes = model_tune.sample(data=data, fixed_param=True, iter_sampling=1, iter_warmup=0, chains = 1)\n",
    "\n",
    "sigma = tunes.draws_pd()['sigma'][0]\n",
    "half_normal = np.abs(np.random.normal(0, sigma, 1000))\n",
    "x_line = np.array([(F+L)/2, (F+L)/2])\n",
    "y_line = np.array([0, 1])\n",
    "\n",
    "plt.figure(figsize = (6,6))\n",
    "plt.hist(half_normal, density=True)\n",
    "plt.plot(x_line, y_line)\n",
    "plt.show()\n"
   ]
  },
  {
   "cell_type": "markdown",
   "metadata": {},
   "source": [
    "## Excercise 5 - different methods of defining models\n"
   ]
  },
  {
   "cell_type": "code",
   "execution_count": 12,
   "metadata": {},
   "outputs": [
    {
     "ename": "SyntaxError",
     "evalue": "invalid syntax (3391715747.py, line 5)",
     "output_type": "error",
     "traceback": [
      "\u001b[0;36m  Input \u001b[0;32mIn [12]\u001b[0;36m\u001b[0m\n\u001b[0;31m    seed = #integer, your date of birth in the DDMMYYYY format without leading zero (or if you are GPRD weary, use any other date you wish)\u001b[0m\n\u001b[0m           ^\u001b[0m\n\u001b[0;31mSyntaxError\u001b[0m\u001b[0;31m:\u001b[0m invalid syntax\n"
     ]
    }
   ],
   "source": [
    "model_samp_st = CmdStanModel(stan_file='code_7.stan')\n",
    "model_log_target = CmdStanModel(stan_file='code_8.stan')\n",
    "model_log_target_ind = CmdStanModel(stan_file='code_9.stan')\n",
    "data = {'N': F}\n",
    "seed = #integer, your date of birth in the DDMMYYYY format without leading zero (or if you are GPRD weary, use any other date you wish)\n",
    "result_1 = model_samp_st.sample(data=data,seed=seed)\n",
    "result_2 = model_log_target(data=data,seed=seed)\n",
    "result_3 = model_log_target_ind(data=data,seed=seed)\n"
   ]
  },
  {
   "cell_type": "code",
   "execution_count": null,
   "metadata": {},
   "outputs": [],
   "source": [
    "az.plot_density([result_1,result_2,result_3])\n",
    "plt.show()"
   ]
  },
  {
   "cell_type": "markdown",
   "metadata": {},
   "source": [
    "## Excercise 6 - generated quantities post sampling"
   ]
  },
  {
   "cell_type": "code",
   "execution_count": null,
   "metadata": {},
   "outputs": [],
   "source": [
    "model_gq = CmdStanModel(stan_file='code_10.stan')\n",
    "# fill in with chosen result from previous excercise\n",
    "mean_of_y = model_gq.generate_quantities(data=data,\n",
    "                                        mcmc_sample = )\n",
    "# investigate the output and plot histogram of mean_y variable"
   ]
  }
 ],
 "metadata": {
  "kernelspec": {
   "display_name": "Python 3 (ipykernel)",
   "language": "python",
   "name": "python3"
  },
  "language_info": {
   "codemirror_mode": {
    "name": "ipython",
    "version": 3
   },
   "file_extension": ".py",
   "mimetype": "text/x-python",
   "name": "python",
   "nbconvert_exporter": "python",
   "pygments_lexer": "ipython3",
   "version": "3.9.11"
  },
  "orig_nbformat": 2
 },
 "nbformat": 4,
 "nbformat_minor": 2
}
