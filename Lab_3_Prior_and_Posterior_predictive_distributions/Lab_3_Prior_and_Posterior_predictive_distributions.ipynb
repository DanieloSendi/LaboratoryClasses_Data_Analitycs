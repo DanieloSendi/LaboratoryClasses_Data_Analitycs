{
 "cells": [
  {
   "attachments": {},
   "cell_type": "markdown",
   "metadata": {},
   "source": [
    "# Binomial model"
   ]
  },
  {
   "cell_type": "code",
   "execution_count": 109,
   "metadata": {},
   "outputs": [],
   "source": [
    "from cmdstanpy import CmdStanModel\n",
    "import pandas as pd\n",
    "import arviz as az \n",
    "import numpy as np\n",
    "import matplotlib.pyplot as plt\n",
    "import scipy.stats as stats"
   ]
  },
  {
   "attachments": {},
   "cell_type": "markdown",
   "metadata": {},
   "source": [
    "## Exercise 1 - Modeling prior predictive distribution"
   ]
  },
  {
   "cell_type": "code",
   "execution_count": 110,
   "metadata": {},
   "outputs": [
    {
     "name": "stderr",
     "output_type": "stream",
     "text": [
      "INFO:cmdstanpy:found newer exe file, not recompiling\n"
     ]
    }
   ],
   "source": [
    "gen_quant = CmdStanModel(stan_file='Lab3_ex1.stan')"
   ]
  },
  {
   "cell_type": "code",
   "execution_count": 111,
   "metadata": {},
   "outputs": [
    {
     "name": "stderr",
     "output_type": "stream",
     "text": [
      "INFO:cmdstanpy:CmdStan start processing\n",
      "chain 1 |\u001b[34m██████████\u001b[0m| 00:00 Sampling completed"
     ]
    },
    {
     "name": "stdout",
     "output_type": "stream",
     "text": [
      "                                                                                "
     ]
    },
    {
     "name": "stderr",
     "output_type": "stream",
     "text": [
      "\n",
      "INFO:cmdstanpy:CmdStan done processing.\n"
     ]
    },
    {
     "name": "stdout",
     "output_type": "stream",
     "text": [
      "\n"
     ]
    },
    {
     "data": {
      "image/png": "[encoded data removed]",
      "text/plain": [
       "<Figure size 432x288 with 1 Axes>"
      ]
     },
     "metadata": {
      "needs_background": "light"
     },
     "output_type": "display_data"
    },
    {
     "name": "stdout",
     "output_type": "stream",
     "text": [
      "0.20572588832487315\n"
     ]
    }
   ],
   "source": [
    "# Generate 1000 samples (pair of p an y)\n",
    "samples = gen_quant.sample(fixed_param=True, \n",
    "                            iter_sampling=1000, \n",
    "                            iter_warmup=0, \n",
    "                            chains = 1)\n",
    "\n",
    "# Get the generated quantities data as a pandas DataFrame\n",
    "df = samples.draws_pd()\n",
    "\n",
    "# Compute ratio of allergic reactions for each sample \n",
    "ratios =df['y'] / df['N']\n",
    "\n",
    "# Create a histogram\n",
    "plt.hist(ratios, bins = 'auto', density = True)\n",
    "plt.xlabel('Ratio of Allergic Reactions')\n",
    "plt.ylabel('Frequency')\n",
    "plt.show()\n",
    "\n",
    "print(ratios.mean())\n",
    "# 7. After verification mean of the ratio is consistent with prior knowledge and amounts to ~0.2"
   ]
  },
  {
   "attachments": {},
   "cell_type": "markdown",
   "metadata": {},
   "source": [
    "## Exercise 2 - Modeling posterior and posterior predictive distribution"
   ]
  },
  {
   "cell_type": "code",
   "execution_count": 112,
   "metadata": {},
   "outputs": [
    {
     "name": "stderr",
     "output_type": "stream",
     "text": [
      "INFO:cmdstanpy:found newer exe file, not recompiling\n"
     ]
    }
   ],
   "source": [
    "gen_quant = CmdStanModel(stan_file='Lab3_ex2.stan')"
   ]
  },
  {
   "cell_type": "code",
   "execution_count": 129,
   "metadata": {},
   "outputs": [
    {
     "name": "stderr",
     "output_type": "stream",
     "text": [
      "INFO:cmdstanpy:CmdStan start processing\n",
      "chain 1 |\u001b[34m██████████\u001b[0m| 00:00 Sampling completed"
     ]
    },
    {
     "name": "stdout",
     "output_type": "stream",
     "text": [
      "                                                                                "
     ]
    },
    {
     "name": "stderr",
     "output_type": "stream",
     "text": [
      "\n",
      "INFO:cmdstanpy:CmdStan done processing.\n"
     ]
    },
    {
     "name": "stdout",
     "output_type": "stream",
     "text": [
      "\n"
     ]
    },
    {
     "data": {
      "image/png": "[encoded data removed]",
      "text/plain": [
       "<Figure size 432x288 with 1 Axes>"
      ]
     },
     "metadata": {
      "needs_background": "light"
     },
     "output_type": "display_data"
    },
    {
     "name": "stdout",
     "output_type": "stream",
     "text": [
      "Expected value: 0.8813800000000002\n",
      "[0.8  0.96]\n",
      "Probability of the ratio being lower than traditional vaccine: 0.0000\n"
     ]
    }
   ],
   "source": [
    "# Generate default samples (pair of p an y)\n",
    "samples = gen_quant.sample(data={'N':50, 'y': 2}, \n",
    "                            fixed_param=True,  \n",
    "                            iter_warmup=0, \n",
    "                            chains = 1)\n",
    "\n",
    "# Compute ratio of predicted allergic reactions for each sample and create a histogram:\n",
    "df = samples.draws_pd()\n",
    "ratios = df['y_pred'] / N\n",
    "plt.hist(ratios, bins= 'auto', density=True, color = 'gold', edgecolor='red',linewidth=2)\n",
    "plt.xlabel('Ratio of Allergic Reactions')\n",
    "plt.ylabel('Frequency')\n",
    "plt.show()\n",
    "\n",
    "# Compute the expected value and 94% density interval of the predicted ratio,\n",
    "# compare it with expected value and 94% density interval of parameter p:\n",
    "expected_ratio = ratios.mean()\n",
    "interval = az.hdi(ratios.to_numpy(), credible_interval=0.94)\n",
    "print(f'Expected value: {expected_ratio}')\n",
    "print(interval)\n",
    "\n",
    "\n",
    "\n",
    "# Compute the probability that ratio is lower than the average probability from traditional vaccines:\n",
    "lower_ratio_prob = (ratios < 0.2).mean()\n",
    "print(f'Probability of the ratio being lower than traditional vaccine: {lower_ratio_prob:.4f}')"
   ]
  }
 ],
 "metadata": {
  "kernelspec": {
   "display_name": "Python 3 (ipykernel)",
   "language": "python",
   "name": "python3"
  },
  "language_info": {
   "codemirror_mode": {
    "name": "ipython",
    "version": 3
   },
   "file_extension": ".py",
   "mimetype": "text/x-python",
   "name": "python",
   "nbconvert_exporter": "python",
   "pygments_lexer": "ipython3",
   "version": "3.9.11"
  },
  "orig_nbformat": 4
 },
 "nbformat": 4,
 "nbformat_minor": 2
}
