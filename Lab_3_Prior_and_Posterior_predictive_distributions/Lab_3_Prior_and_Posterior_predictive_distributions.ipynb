{
 "cells": [
  {
   "cell_type": "code",
   "execution_count": 1,
   "metadata": {},
   "outputs": [
    {
     "name": "stderr",
     "output_type": "stream",
     "text": [
      "/usr/local/lib/python3.9/site-packages/tqdm/auto.py:22: TqdmWarning: IProgress not found. Please update jupyter and ipywidgets. See https://ipywidgets.readthedocs.io/en/stable/user_install.html\n",
      "  from .autonotebook import tqdm as notebook_tqdm\n"
     ]
    }
   ],
   "source": [
    "from cmdstanpy import CmdStanModel\n",
    "import pandas as pd\n",
    "import arviz as az \n",
    "import numpy as np\n",
    "import matplotlib.pyplot as plt\n",
    "import scipy.stats as stats"
   ]
  },
  {
   "attachments": {},
   "cell_type": "markdown",
   "metadata": {},
   "source": [
    "## Exercise 1 - Modeling prior predictive distribution"
   ]
  },
  {
   "cell_type": "code",
   "execution_count": 2,
   "metadata": {},
   "outputs": [
    {
     "name": "stderr",
     "output_type": "stream",
     "text": [
      "INFO:cmdstanpy:compiling stan file /home/LaboratoryClasses_Data_Analitycs/Lab_3_Prior_and_Posterior_predictive_distributions/Lab3_ex1.stan to exe file /home/LaboratoryClasses_Data_Analitycs/Lab_3_Prior_and_Posterior_predictive_distributions/Lab3_ex1\n",
      "ERROR:cmdstanpy:Stan program failed to compile:\n",
      "WARNING:cmdstanpy:\n",
      "--- Translating Stan model to C++ code ---\n",
      "bin/stanc  --o=/home/LaboratoryClasses_Data_Analitycs/Lab_3_Prior_and_Posterior_predictive_distributions/Lab3_ex1.hpp /home/LaboratoryClasses_Data_Analitycs/Lab_3_Prior_and_Posterior_predictive_distributions/Lab3_ex1.stan\n",
      "Syntax error in '/home/LaboratoryClasses_Data_Analitycs/Lab_3_Prior_and_Posterior_predictive_distributions/Lab3_ex1.stan', line 6, column 4 to column 5, parsing error:\n",
      "   -------------------------------------------------\n",
      "     4:      int y;//number of successes\n",
      "     5:      real p; //probability of allergic reaction\n",
      "     6:      N = 50\n",
      "             ^\n",
      "     7:  }\n",
      "     8:  \n",
      "   -------------------------------------------------\n",
      "\n",
      "Only top-level variable declarations allowed in data and parameters blocks.\n",
      "make: *** [make/program:50: /home/LaboratoryClasses_Data_Analitycs/Lab_3_Prior_and_Posterior_predictive_distributions/Lab3_ex1.hpp] Error 1\n",
      "\n",
      "Command ['make', '/home/LaboratoryClasses_Data_Analitycs/Lab_3_Prior_and_Posterior_predictive_distributions/Lab3_ex1']\n",
      "\terror during processing No such file or directory\n",
      "\n"
     ]
    },
    {
     "ename": "ValueError",
     "evalue": "Unable to compile Stan model file: /home/LaboratoryClasses_Data_Analitycs/Lab_3_Prior_and_Posterior_predictive_distributions/Lab3_ex1.stan.",
     "output_type": "error",
     "traceback": [
      "\u001b[0;31m---------------------------------------------------------------------------\u001b[0m",
      "\u001b[0;31mValueError\u001b[0m                                Traceback (most recent call last)",
      "\u001b[1;32m/home/LaboratoryClasses_Data_Analitycs/Lab_3_Prior_and_Posterior_predictive_distributions/Lab_3_Prior_and_Posterior_predictive_distributions.ipynb Cell 3\u001b[0m in \u001b[0;36m<cell line: 1>\u001b[0;34m()\u001b[0m\n\u001b[0;32m----> <a href='vscode-notebook-cell://attached-container%2B7b22636f6e7461696e65724e616d65223a222f6d795f636f6e7461696e6572227d/home/LaboratoryClasses_Data_Analitycs/Lab_3_Prior_and_Posterior_predictive_distributions/Lab_3_Prior_and_Posterior_predictive_distributions.ipynb#W2sdnNjb2RlLXJlbW90ZQ%3D%3D?line=0'>1</a>\u001b[0m gen_quant \u001b[39m=\u001b[39m CmdStanModel(stan_file\u001b[39m=\u001b[39;49m\u001b[39m'\u001b[39;49m\u001b[39mLab3_ex1.stan\u001b[39;49m\u001b[39m'\u001b[39;49m)\n",
      "File \u001b[0;32m/usr/local/lib/python3.9/site-packages/cmdstanpy/model.py:210\u001b[0m, in \u001b[0;36mCmdStanModel.__init__\u001b[0;34m(self, model_name, stan_file, exe_file, compile, stanc_options, cpp_options, user_header)\u001b[0m\n\u001b[1;32m    208\u001b[0m \u001b[39mself\u001b[39m\u001b[39m.\u001b[39mcompile(force\u001b[39m=\u001b[39m\u001b[39mstr\u001b[39m(\u001b[39mcompile\u001b[39m)\u001b[39m.\u001b[39mlower() \u001b[39m==\u001b[39m \u001b[39m'\u001b[39m\u001b[39mforce\u001b[39m\u001b[39m'\u001b[39m)\n\u001b[1;32m    209\u001b[0m \u001b[39mif\u001b[39;00m \u001b[39mself\u001b[39m\u001b[39m.\u001b[39m_exe_file \u001b[39mis\u001b[39;00m \u001b[39mNone\u001b[39;00m:\n\u001b[0;32m--> 210\u001b[0m     \u001b[39mraise\u001b[39;00m \u001b[39mValueError\u001b[39;00m(\n\u001b[1;32m    211\u001b[0m         \u001b[39m'\u001b[39m\u001b[39mUnable to compile Stan model file: \u001b[39m\u001b[39m{}\u001b[39;00m\u001b[39m.\u001b[39m\u001b[39m'\u001b[39m\u001b[39m.\u001b[39mformat(\n\u001b[1;32m    212\u001b[0m             \u001b[39mself\u001b[39m\u001b[39m.\u001b[39m_stan_file\n\u001b[1;32m    213\u001b[0m         )\n\u001b[1;32m    214\u001b[0m     )\n",
      "\u001b[0;31mValueError\u001b[0m: Unable to compile Stan model file: /home/LaboratoryClasses_Data_Analitycs/Lab_3_Prior_and_Posterior_predictive_distributions/Lab3_ex1.stan."
     ]
    }
   ],
   "source": [
    "gen_quant = CmdStanModel(stan_file='Lab3_ex1.stan')\n",
    "\n",
    "F = 6\n",
    "\n",
    "samples = gen_quant.sample(data={'M': F}, \n",
    "                            fixed_param=True,\n",
    "                            iter_sampling=1000, \n",
    "                            iter_warmup=0, \n",
    "                            chains = 1)"
   ]
  },
  {
   "cell_type": "markdown",
   "metadata": {},
   "source": []
  }
 ],
 "metadata": {
  "kernelspec": {
   "display_name": "Python 3 (ipykernel)",
   "language": "python",
   "name": "python3"
  },
  "language_info": {
   "codemirror_mode": {
    "name": "ipython",
    "version": 3
   },
   "file_extension": ".py",
   "mimetype": "text/x-python",
   "name": "python",
   "nbconvert_exporter": "python",
   "pygments_lexer": "ipython3",
   "version": "3.9.11"
  },
  "orig_nbformat": 4
 },
 "nbformat": 4,
 "nbformat_minor": 2
}
