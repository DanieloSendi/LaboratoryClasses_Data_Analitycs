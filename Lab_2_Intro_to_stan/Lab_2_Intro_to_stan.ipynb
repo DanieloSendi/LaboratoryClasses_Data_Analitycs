{
 "cells": [
  {
   "cell_type": "code",
   "execution_count": 1,
   "metadata": {},
   "outputs": [
    {
     "name": "stderr",
     "output_type": "stream",
     "text": [
      "/usr/local/lib/python3.9/site-packages/tqdm/auto.py:22: TqdmWarning: IProgress not found. Please update jupyter and ipywidgets. See https://ipywidgets.readthedocs.io/en/stable/user_install.html\n",
      "  from .autonotebook import tqdm as notebook_tqdm\n"
     ]
    }
   ],
   "source": [
    "from cmdstanpy import CmdStanModel\n",
    "import pandas as pd\n",
    "import arviz as az \n",
    "import numpy as np\n",
    "import matplotlib.pyplot as plt\n",
    "import scipy.stats as stats"
   ]
  },
  {
   "cell_type": "markdown",
   "metadata": {},
   "source": [
    "## Excercise 1 -  Generated Quantities Block"
   ]
  },
  {
   "cell_type": "code",
   "execution_count": 2,
   "metadata": {},
   "outputs": [
    {
     "name": "stderr",
     "output_type": "stream",
     "text": [
      "INFO:cmdstanpy:found newer exe file, not recompiling\n"
     ]
    }
   ],
   "source": [
    "gen_quant = CmdStanModel(stan_file='code_1.stan')\n"
   ]
  },
  {
   "cell_type": "code",
   "execution_count": 3,
   "metadata": {},
   "outputs": [
    {
     "name": "stderr",
     "output_type": "stream",
     "text": [
      "INFO:cmdstanpy:CmdStan start processing\n",
      "chain 1 |\u001b[34m██████████\u001b[0m| 00:00 Sampling completed"
     ]
    },
    {
     "name": "stdout",
     "output_type": "stream",
     "text": [
      "                                                                                "
     ]
    },
    {
     "name": "stderr",
     "output_type": "stream",
     "text": [
      "\n",
      "INFO:cmdstanpy:CmdStan done processing.\n"
     ]
    },
    {
     "name": "stdout",
     "output_type": "stream",
     "text": [
      "\n"
     ]
    },
    {
     "data": {
      "text/html": [
       "<div>\n",
       "<style scoped>\n",
       "    .dataframe tbody tr th:only-of-type {\n",
       "        vertical-align: middle;\n",
       "    }\n",
       "\n",
       "    .dataframe tbody tr th {\n",
       "        vertical-align: top;\n",
       "    }\n",
       "\n",
       "    .dataframe thead th {\n",
       "        text-align: right;\n",
       "    }\n",
       "</style>\n",
       "<table border=\"1\" class=\"dataframe\">\n",
       "  <thead>\n",
       "    <tr style=\"text-align: right;\">\n",
       "      <th></th>\n",
       "      <th>lp__</th>\n",
       "      <th>accept_stat__</th>\n",
       "      <th>lambda</th>\n",
       "      <th>y_sim[1]</th>\n",
       "      <th>y_sim[2]</th>\n",
       "      <th>y_sim[3]</th>\n",
       "      <th>y_sim[4]</th>\n",
       "      <th>y_sim[5]</th>\n",
       "      <th>y_sim[6]</th>\n",
       "    </tr>\n",
       "  </thead>\n",
       "  <tbody>\n",
       "    <tr>\n",
       "      <th>0</th>\n",
       "      <td>0.0</td>\n",
       "      <td>0.0</td>\n",
       "      <td>62.8818</td>\n",
       "      <td>66.0</td>\n",
       "      <td>72.0</td>\n",
       "      <td>48.0</td>\n",
       "      <td>63.0</td>\n",
       "      <td>80.0</td>\n",
       "      <td>76.0</td>\n",
       "    </tr>\n",
       "    <tr>\n",
       "      <th>1</th>\n",
       "      <td>0.0</td>\n",
       "      <td>0.0</td>\n",
       "      <td>166.8310</td>\n",
       "      <td>148.0</td>\n",
       "      <td>143.0</td>\n",
       "      <td>180.0</td>\n",
       "      <td>178.0</td>\n",
       "      <td>157.0</td>\n",
       "      <td>147.0</td>\n",
       "    </tr>\n",
       "    <tr>\n",
       "      <th>2</th>\n",
       "      <td>0.0</td>\n",
       "      <td>0.0</td>\n",
       "      <td>17.2891</td>\n",
       "      <td>10.0</td>\n",
       "      <td>24.0</td>\n",
       "      <td>21.0</td>\n",
       "      <td>17.0</td>\n",
       "      <td>17.0</td>\n",
       "      <td>15.0</td>\n",
       "    </tr>\n",
       "    <tr>\n",
       "      <th>3</th>\n",
       "      <td>0.0</td>\n",
       "      <td>0.0</td>\n",
       "      <td>56.5721</td>\n",
       "      <td>50.0</td>\n",
       "      <td>51.0</td>\n",
       "      <td>55.0</td>\n",
       "      <td>56.0</td>\n",
       "      <td>60.0</td>\n",
       "      <td>58.0</td>\n",
       "    </tr>\n",
       "    <tr>\n",
       "      <th>4</th>\n",
       "      <td>0.0</td>\n",
       "      <td>0.0</td>\n",
       "      <td>105.7230</td>\n",
       "      <td>90.0</td>\n",
       "      <td>103.0</td>\n",
       "      <td>106.0</td>\n",
       "      <td>99.0</td>\n",
       "      <td>111.0</td>\n",
       "      <td>108.0</td>\n",
       "    </tr>\n",
       "    <tr>\n",
       "      <th>...</th>\n",
       "      <td>...</td>\n",
       "      <td>...</td>\n",
       "      <td>...</td>\n",
       "      <td>...</td>\n",
       "      <td>...</td>\n",
       "      <td>...</td>\n",
       "      <td>...</td>\n",
       "      <td>...</td>\n",
       "      <td>...</td>\n",
       "    </tr>\n",
       "    <tr>\n",
       "      <th>995</th>\n",
       "      <td>0.0</td>\n",
       "      <td>0.0</td>\n",
       "      <td>119.8860</td>\n",
       "      <td>118.0</td>\n",
       "      <td>107.0</td>\n",
       "      <td>122.0</td>\n",
       "      <td>127.0</td>\n",
       "      <td>124.0</td>\n",
       "      <td>99.0</td>\n",
       "    </tr>\n",
       "    <tr>\n",
       "      <th>996</th>\n",
       "      <td>0.0</td>\n",
       "      <td>0.0</td>\n",
       "      <td>45.6632</td>\n",
       "      <td>46.0</td>\n",
       "      <td>46.0</td>\n",
       "      <td>45.0</td>\n",
       "      <td>30.0</td>\n",
       "      <td>43.0</td>\n",
       "      <td>49.0</td>\n",
       "    </tr>\n",
       "    <tr>\n",
       "      <th>997</th>\n",
       "      <td>0.0</td>\n",
       "      <td>0.0</td>\n",
       "      <td>50.5879</td>\n",
       "      <td>46.0</td>\n",
       "      <td>57.0</td>\n",
       "      <td>54.0</td>\n",
       "      <td>51.0</td>\n",
       "      <td>46.0</td>\n",
       "      <td>42.0</td>\n",
       "    </tr>\n",
       "    <tr>\n",
       "      <th>998</th>\n",
       "      <td>0.0</td>\n",
       "      <td>0.0</td>\n",
       "      <td>229.0040</td>\n",
       "      <td>222.0</td>\n",
       "      <td>218.0</td>\n",
       "      <td>228.0</td>\n",
       "      <td>251.0</td>\n",
       "      <td>205.0</td>\n",
       "      <td>240.0</td>\n",
       "    </tr>\n",
       "    <tr>\n",
       "      <th>999</th>\n",
       "      <td>0.0</td>\n",
       "      <td>0.0</td>\n",
       "      <td>43.1169</td>\n",
       "      <td>25.0</td>\n",
       "      <td>37.0</td>\n",
       "      <td>43.0</td>\n",
       "      <td>38.0</td>\n",
       "      <td>47.0</td>\n",
       "      <td>52.0</td>\n",
       "    </tr>\n",
       "  </tbody>\n",
       "</table>\n",
       "<p>1000 rows × 9 columns</p>\n",
       "</div>"
      ],
      "text/plain": [
       "     lp__  accept_stat__    lambda  y_sim[1]  y_sim[2]  y_sim[3]  y_sim[4]  \\\n",
       "0     0.0            0.0   62.8818      66.0      72.0      48.0      63.0   \n",
       "1     0.0            0.0  166.8310     148.0     143.0     180.0     178.0   \n",
       "2     0.0            0.0   17.2891      10.0      24.0      21.0      17.0   \n",
       "3     0.0            0.0   56.5721      50.0      51.0      55.0      56.0   \n",
       "4     0.0            0.0  105.7230      90.0     103.0     106.0      99.0   \n",
       "..    ...            ...       ...       ...       ...       ...       ...   \n",
       "995   0.0            0.0  119.8860     118.0     107.0     122.0     127.0   \n",
       "996   0.0            0.0   45.6632      46.0      46.0      45.0      30.0   \n",
       "997   0.0            0.0   50.5879      46.0      57.0      54.0      51.0   \n",
       "998   0.0            0.0  229.0040     222.0     218.0     228.0     251.0   \n",
       "999   0.0            0.0   43.1169      25.0      37.0      43.0      38.0   \n",
       "\n",
       "     y_sim[5]  y_sim[6]  \n",
       "0        80.0      76.0  \n",
       "1       157.0     147.0  \n",
       "2        17.0      15.0  \n",
       "3        60.0      58.0  \n",
       "4       111.0     108.0  \n",
       "..        ...       ...  \n",
       "995     124.0      99.0  \n",
       "996      43.0      49.0  \n",
       "997      46.0      42.0  \n",
       "998     205.0     240.0  \n",
       "999      47.0      52.0  \n",
       "\n",
       "[1000 rows x 9 columns]"
      ]
     },
     "metadata": {},
     "output_type": "display_data"
    },
    {
     "data": {
      "image/png": "[encoded data removed]",
      "text/plain": [
       "<Figure size 1440x360 with 7 Axes>"
      ]
     },
     "metadata": {
      "needs_background": "light"
     },
     "output_type": "display_data"
    }
   ],
   "source": [
    "F = 6 #number of letters in first name\n",
    "\n",
    "samples = gen_quant.sample(data={'M': F}, \n",
    "                            fixed_param=True,\n",
    "                            iter_sampling=1000, \n",
    "                            iter_warmup=0, \n",
    "                            chains = 1)\n",
    "\n",
    "# Creation of pandas dataframe from resulting draws\n",
    "df = samples.draws_pd()\n",
    "display(df)\n",
    "\n",
    "#Plot a histogram for each of y_sim(poison distribution) and lambda(folded normal distribution)\n",
    "fig, axs = plt.subplots(1, 7, figsize=(20, 5))\n",
    "\n",
    "for i, data_title in enumerate(list(df.columns)[2:]):\n",
    "    axs[i].hist(df[data_title], bins='auto')\n",
    "    axs[i].set_title(data_title)\n",
    "    \n",
    "plt.show()\n",
    "    "
   ]
  },
  {
   "cell_type": "markdown",
   "metadata": {},
   "source": [
    "## Excercise 2 - Constraints on the data "
   ]
  },
  {
   "cell_type": "code",
   "execution_count": 4,
   "metadata": {},
   "outputs": [
    {
     "name": "stderr",
     "output_type": "stream",
     "text": [
      "INFO:cmdstanpy:found newer exe file, not recompiling\n",
      "INFO:cmdstanpy:CmdStan start processing\n",
      "chain 1 |\u001b[33m          \u001b[0m| 00:00 Status\n",
      "\u001b[A\n",
      "\n",
      "chain 1 |\u001b[34m██████████\u001b[0m| 00:00 Sampling completed\n",
      "chain 2 |\u001b[34m██████████\u001b[0m| 00:00 Sampling completed\n",
      "chain 3 |\u001b[34m██████████\u001b[0m| 00:00 Sampling completed\n",
      "chain 4 |\u001b[34m██████████\u001b[0m| 00:00 Sampling completed"
     ]
    },
    {
     "name": "stdout",
     "output_type": "stream",
     "text": [
      "                                                                                                                                                                                                                                                                                                                                "
     ]
    },
    {
     "name": "stderr",
     "output_type": "stream",
     "text": [
      "\n",
      "INFO:cmdstanpy:CmdStan done processing.\n"
     ]
    },
    {
     "name": "stdout",
     "output_type": "stream",
     "text": [
      "\n"
     ]
    }
   ],
   "source": [
    "bern1 = CmdStanModel(stan_file='code_2.stan')\n",
    "samp_bern1 = bern1.sample(data={'N':2, 'y':[0,1]})\n"
   ]
  },
  {
   "cell_type": "code",
   "execution_count": 5,
   "metadata": {},
   "outputs": [
    {
     "name": "stderr",
     "output_type": "stream",
     "text": [
      "INFO:cmdstanpy:found newer exe file, not recompiling\n",
      "INFO:cmdstanpy:CmdStan start processing\n",
      "chain 1 |\u001b[33m          \u001b[0m| 00:00 Status\n",
      "\u001b[A\n",
      "\n",
      "chain 1 |\u001b[34m██████████\u001b[0m| 00:00 Sampling completed\n",
      "chain 2 |\u001b[34m██████████\u001b[0m| 00:00 Sampling completed\n",
      "chain 3 |\u001b[34m██████████\u001b[0m| 00:00 Sampling completed\n",
      "chain 4 |\u001b[34m██████████\u001b[0m| 00:00 Sampling completed"
     ]
    },
    {
     "name": "stdout",
     "output_type": "stream",
     "text": [
      "                                                                                                                                                                                                                                                                                                                                "
     ]
    },
    {
     "name": "stderr",
     "output_type": "stream",
     "text": [
      "\n",
      "INFO:cmdstanpy:CmdStan done processing.\n"
     ]
    },
    {
     "name": "stdout",
     "output_type": "stream",
     "text": [
      "\n"
     ]
    }
   ],
   "source": [
    "bern2 = CmdStanModel(stan_file='code_3.stan')\n",
    "samp_bern2 = bern2.sample(data={'N':2, 'y':[0,1]})\n",
    "\n",
    "\n",
    "# 1.The main difference between code_2.stan and code_3.stan is in the lower bound constraint on the parameter N. \n",
    "#In code_2.stan, N can take any positive integer value, including 1, whereas in code_3.stan, N must be greater than or equal to 1. \n",
    "#This means that the model defined in code_3.stan is more restrictive than the one in code_2.stan.\n",
    "\n",
    "#This difference in constraints means that code_3.stan ensures that there is at least one observation in the data, \n",
    "#which is necessary for the model to be well-defined. In contrast, code_2.stan allows for the possibility of an empty dataset, \n",
    "#which would not be valid for this model"
   ]
  },
  {
   "cell_type": "markdown",
   "metadata": {},
   "source": [
    "## Excercise 3 - Constraints on parameters"
   ]
  },
  {
   "cell_type": "markdown",
   "metadata": {},
   "source": [
    "### Unconstrained parameters"
   ]
  },
  {
   "cell_type": "code",
   "execution_count": 6,
   "metadata": {},
   "outputs": [
    {
     "name": "stderr",
     "output_type": "stream",
     "text": [
      "INFO:cmdstanpy:found newer exe file, not recompiling\n",
      "INFO:cmdstanpy:CmdStan start processing\n",
      "chain 1 |\u001b[33m          \u001b[0m| 00:00 Status\n",
      "\u001b[A\n",
      "\n",
      "chain 1 |\u001b[33m▌         \u001b[0m| 00:00 Iteration:  200 / 7000 [  2%]  (Warmup)\n",
      "\u001b[A\n",
      "\n",
      "chain 1 |\u001b[34m█▉        \u001b[0m| 00:00 Iteration: 1100 / 7000 [ 15%]  (Sampling)\n",
      "\u001b[A\n",
      "\n",
      "\u001b[A\u001b[A\n",
      "chain 1 |\u001b[34m██▉       \u001b[0m| 00:00 Iteration: 1800 / 7000 [ 25%]  (Sampling)\n",
      "\n",
      "\u001b[A\u001b[A\n",
      "chain 1 |\u001b[34m███▌      \u001b[0m| 00:00 Iteration: 2300 / 7000 [ 32%]  (Sampling)\n",
      "\n",
      "\u001b[A\u001b[A\n",
      "chain 1 |\u001b[34m████▏     \u001b[0m| 00:01 Iteration: 2700 / 7000 [ 38%]  (Sampling)\n",
      "\u001b[A\n",
      "\n",
      "chain 1 |\u001b[34m████▌     \u001b[0m| 00:01 Iteration: 3000 / 7000 [ 42%]  (Sampling)\n",
      "\n",
      "\u001b[A\u001b[A\n",
      "chain 1 |\u001b[34m█████     \u001b[0m| 00:01 Iteration: 3300 / 7000 [ 47%]  (Sampling)\n",
      "\u001b[A\n",
      "\n",
      "chain 1 |\u001b[34m█████▍    \u001b[0m| 00:01 Iteration: 3600 / 7000 [ 51%]  (Sampling)\n",
      "\u001b[A\n",
      "\n",
      "chain 1 |\u001b[34m█████▊    \u001b[0m| 00:01 Iteration: 3900 / 7000 [ 55%]  (Sampling)\n",
      "\n",
      "\u001b[A\u001b[A\n",
      "chain 1 |\u001b[34m██████▎   \u001b[0m| 00:01 Iteration: 4200 / 7000 [ 60%]  (Sampling)\n",
      "\u001b[A\n",
      "\n",
      "chain 1 |\u001b[34m██████▋   \u001b[0m| 00:01 Iteration: 4500 / 7000 [ 64%]  (Sampling)\n",
      "\u001b[A\n",
      "\n",
      "chain 1 |\u001b[34m███████   \u001b[0m| 00:02 Iteration: 4800 / 7000 [ 68%]  (Sampling)\n",
      "\n",
      "\u001b[A\u001b[A\n",
      "chain 1 |\u001b[34m███████▌  \u001b[0m| 00:02 Iteration: 5100 / 7000 [ 72%]  (Sampling)\n",
      "\n",
      "\u001b[A\u001b[A\n",
      "chain 1 |\u001b[34m███████▉  \u001b[0m| 00:02 Iteration: 5400 / 7000 [ 77%]  (Sampling)\n",
      "\n",
      "\u001b[A\u001b[A\n",
      "chain 1 |\u001b[34m████████▎ \u001b[0m| 00:02 Iteration: 5700 / 7000 [ 81%]  (Sampling)\n",
      "\n",
      "\u001b[A\u001b[A\n",
      "chain 1 |\u001b[34m████████▊ \u001b[0m| 00:02 Iteration: 6000 / 7000 [ 85%]  (Sampling)\n",
      "\n",
      "\u001b[A\u001b[A\n",
      "chain 1 |\u001b[34m█████████▏\u001b[0m| 00:02 Iteration: 6300 / 7000 [ 90%]  (Sampling)\n",
      "\n",
      "\u001b[A\u001b[A\n",
      "chain 1 |\u001b[34m█████████▌\u001b[0m| 00:02 Iteration: 6600 / 7000 [ 94%]  (Sampling)\n",
      "\n",
      "\u001b[A\u001b[A\n",
      "chain 1 |\u001b[34m██████████\u001b[0m| 00:03 Iteration: 6900 / 7000 [ 98%]  (Sampling)\n",
      "\n",
      "chain 1 |\u001b[34m██████████\u001b[0m| 00:03 Sampling completed                       \n",
      "chain 2 |\u001b[34m██████████\u001b[0m| 00:03 Sampling completed                       \n",
      "\n",
      "chain 3 |\u001b[34m██████████\u001b[0m| 00:03 Sampling completed\n",
      "chain 4 |\u001b[34m██████████\u001b[0m| 00:03 Sampling completed                       "
     ]
    },
    {
     "name": "stdout",
     "output_type": "stream",
     "text": [
      "                                                                                                                                                                                                                                                                                                                                "
     ]
    },
    {
     "name": "stderr",
     "output_type": "stream",
     "text": [
      "\n",
      "INFO:cmdstanpy:CmdStan done processing.\n"
     ]
    },
    {
     "name": "stdout",
     "output_type": "stream",
     "text": [
      "\n"
     ]
    },
    {
     "data": {
      "text/plain": [
       "\"Processing csv files: /home/LaboratoryClasses_Data_Analitycs/Lab_2_Intro_to_stan/samples/code_4-20230319102539_1.csv, /home/LaboratoryClasses_Data_Analitycs/Lab_2_Intro_to_stan/samples/code_4-20230319102539_2.csv, /home/LaboratoryClasses_Data_Analitycs/Lab_2_Intro_to_stan/samples/code_4-20230319102539_3.csv, /home/LaboratoryClasses_Data_Analitycs/Lab_2_Intro_to_stan/samples/code_4-20230319102539_4.csv\\n\\nChecking sampler transitions treedepth.\\nTreedepth satisfactory for all transitions.\\n\\nChecking sampler transitions for divergences.\\n9489 of 24000 (39.54%) transitions ended with a divergence.\\nThese divergent transitions indicate that HMC is not fully able to explore the posterior distribution.\\nTry increasing adapt delta closer to 1.\\nIf this doesn't remove all divergences, try to reparameterize the model.\\n\\nChecking E-BFMI - sampler transitions HMC potential energy.\\nE-BFMI satisfactory.\\n\\nEffective sample size satisfactory.\\n\\nSplit R-hat values satisfactory all parameters.\\n\\nProcessing complete.\\n\""
      ]
     },
     "execution_count": 6,
     "metadata": {},
     "output_type": "execute_result"
    }
   ],
   "source": [
    "model_gm1 = CmdStanModel(stan_file='code_4.stan')\n",
    "out_gamma1 = model_gm1.sample(output_dir='samples',iter_sampling=6000,iter_warmup=1000, seed=4838282)\n",
    "out_gamma1.diagnose()\n"
   ]
  },
  {
   "cell_type": "code",
   "execution_count": 7,
   "metadata": {},
   "outputs": [
    {
     "name": "stderr",
     "output_type": "stream",
     "text": [
      "No artists with labels found to put in legend.  Note that artists whose label start with an underscore are ignored when legend() is called with no argument.\n"
     ]
    },
    {
     "data": {
      "image/png": "[encoded data removed]",
      "text/plain": [
       "<Figure size 432x288 with 1 Axes>"
      ]
     },
     "metadata": {
      "needs_background": "light"
     },
     "output_type": "display_data"
    }
   ],
   "source": [
    "N=500\n",
    "xs = np.linspace(0,8,N)\n",
    "pdfs = stats.gamma.pdf(xs, 1.25, scale = 1 / 1.25) \n",
    "\n",
    "plt.plot(xs, pdfs, linewidth=2, color = 'red')\n",
    "\n",
    "## add histogram of theta samples with 160 bins\n",
    "df = out_gamma1.draws_pd()\n",
    "\n",
    "plt.hist(df['theta'], bins=160, density = True)\n",
    "plt.gca().set_xlabel(\"theta\")\n",
    "plt.gca().set_ylabel(\"Probability Density Function\")\n",
    "plt.legend()\n",
    "plt.show()\n"
   ]
  },
  {
   "cell_type": "markdown",
   "metadata": {},
   "source": [
    "### Constrained parameter"
   ]
  },
  {
   "cell_type": "code",
   "execution_count": 8,
   "metadata": {},
   "outputs": [
    {
     "name": "stderr",
     "output_type": "stream",
     "text": [
      "INFO:cmdstanpy:found newer exe file, not recompiling\n",
      "INFO:cmdstanpy:CmdStan start processing\n",
      "chain 1 |\u001b[33m          \u001b[0m| 00:00 Status\n",
      "\u001b[A\n",
      "\n",
      "\u001b[A\u001b[A\n",
      "\u001b[A\n",
      "\n",
      "chain 1 |\u001b[34m███       \u001b[0m| 00:00 Iteration: 1900 / 7000 [ 27%]  (Sampling)\n",
      "\u001b[A\n",
      "\n",
      "chain 1 |\u001b[34m███▊      \u001b[0m| 00:00 Iteration: 2400 / 7000 [ 34%]  (Sampling)\n",
      "\u001b[A\n",
      "\n",
      "chain 1 |\u001b[34m████▎     \u001b[0m| 00:01 Iteration: 2800 / 7000 [ 40%]  (Sampling)\n",
      "\u001b[A\n",
      "\n",
      "chain 1 |\u001b[34m█████▏    \u001b[0m| 00:01 Iteration: 3400 / 7000 [ 48%]  (Sampling)\n",
      "\u001b[A\n",
      "\n",
      "chain 1 |\u001b[34m█████▌    \u001b[0m| 00:01 Iteration: 3700 / 7000 [ 52%]  (Sampling)\n",
      "\u001b[A\n",
      "\n",
      "chain 1 |\u001b[34m█████▉    \u001b[0m| 00:01 Iteration: 4000 / 7000 [ 57%]  (Sampling)\n",
      "\u001b[A\n",
      "\n",
      "chain 1 |\u001b[34m██████▍   \u001b[0m| 00:01 Iteration: 4300 / 7000 [ 61%]  (Sampling)\n",
      "\u001b[A\n",
      "\n",
      "chain 1 |\u001b[34m██████▊   \u001b[0m| 00:01 Iteration: 4600 / 7000 [ 65%]  (Sampling)\n",
      "\u001b[A\n",
      "\n",
      "chain 1 |\u001b[34m███████▏  \u001b[0m| 00:02 Iteration: 4900 / 7000 [ 70%]  (Sampling)\n",
      "\n",
      "\u001b[A\u001b[A\n",
      "chain 1 |\u001b[34m███████▋  \u001b[0m| 00:02 Iteration: 5200 / 7000 [ 74%]  (Sampling)\n",
      "\n",
      "\u001b[A\u001b[A\n",
      "chain 1 |\u001b[34m███████▉  \u001b[0m| 00:02 Iteration: 5400 / 7000 [ 77%]  (Sampling)\n",
      "\n",
      "\u001b[A\u001b[A\n",
      "chain 1 |\u001b[34m████████▏ \u001b[0m| 00:02 Iteration: 5600 / 7000 [ 80%]  (Sampling)\n",
      "\n",
      "\u001b[A\u001b[A\n",
      "chain 1 |\u001b[34m████████▉ \u001b[0m| 00:02 Iteration: 6100 / 7000 [ 87%]  (Sampling)\n",
      "\n",
      "\u001b[A\u001b[A\n",
      "chain 1 |\u001b[34m█████████▏\u001b[0m| 00:02 Iteration: 6300 / 7000 [ 90%]  (Sampling)\n",
      "\n",
      "\u001b[A\u001b[A\n",
      "chain 1 |\u001b[34m█████████▍\u001b[0m| 00:03 Iteration: 6500 / 7000 [ 92%]  (Sampling)\n",
      "\n",
      "\u001b[A\u001b[A\n",
      "chain 1 |\u001b[34m█████████▋\u001b[0m| 00:03 Iteration: 6700 / 7000 [ 95%]  (Sampling)\n",
      "\n",
      "\u001b[A\u001b[A\n",
      "chain 1 |\u001b[34m██████████\u001b[0m| 00:03 Sampling completed                       \n",
      "chain 2 |\u001b[34m██████████\u001b[0m| 00:03 Sampling completed                       \n",
      "chain 3 |\u001b[34m██████████\u001b[0m| 00:03 Sampling completed                       \n",
      "chain 4 |\u001b[34m██████████\u001b[0m| 00:03 Sampling completed                       "
     ]
    },
    {
     "name": "stdout",
     "output_type": "stream",
     "text": [
      "                                                                                "
     ]
    },
    {
     "name": "stderr",
     "output_type": "stream",
     "text": [
      "\n"
     ]
    },
    {
     "name": "stdout",
     "output_type": "stream",
     "text": [
      "                                                                                                                                                                                                                                                "
     ]
    },
    {
     "name": "stderr",
     "output_type": "stream",
     "text": [
      "INFO:cmdstanpy:CmdStan done processing.\n"
     ]
    },
    {
     "name": "stdout",
     "output_type": "stream",
     "text": [
      "\n"
     ]
    },
    {
     "data": {
      "text/plain": [
       "\"Processing csv files: /home/LaboratoryClasses_Data_Analitycs/Lab_2_Intro_to_stan/samples/code_5-20230319102544_1.csv, /home/LaboratoryClasses_Data_Analitycs/Lab_2_Intro_to_stan/samples/code_5-20230319102544_2.csv, /home/LaboratoryClasses_Data_Analitycs/Lab_2_Intro_to_stan/samples/code_5-20230319102544_3.csv, /home/LaboratoryClasses_Data_Analitycs/Lab_2_Intro_to_stan/samples/code_5-20230319102544_4.csv\\n\\nChecking sampler transitions treedepth.\\nTreedepth satisfactory for all transitions.\\n\\nChecking sampler transitions for divergences.\\n2 of 24000 (0.01%) transitions ended with a divergence.\\nThese divergent transitions indicate that HMC is not fully able to explore the posterior distribution.\\nTry increasing adapt delta closer to 1.\\nIf this doesn't remove all divergences, try to reparameterize the model.\\n\\nChecking E-BFMI - sampler transitions HMC potential energy.\\nE-BFMI satisfactory.\\n\\nEffective sample size satisfactory.\\n\\nSplit R-hat values satisfactory all parameters.\\n\\nProcessing complete.\\n\""
      ]
     },
     "execution_count": 8,
     "metadata": {},
     "output_type": "execute_result"
    }
   ],
   "source": [
    "model_gm2 = CmdStanModel(stan_file='code_5.stan')\n",
    "out_gamma2 = model_gm2.sample(output_dir='samples',iter_sampling=6000,iter_warmup=1000, seed=4838282)\n",
    "out_gamma2.diagnose()"
   ]
  },
  {
   "cell_type": "code",
   "execution_count": 9,
   "metadata": {},
   "outputs": [
    {
     "data": {
      "image/png": "[encoded data removed]",
      "text/plain": [
       "<Figure size 432x288 with 1 Axes>"
      ]
     },
     "metadata": {
      "needs_background": "light"
     },
     "output_type": "display_data"
    }
   ],
   "source": [
    "N=500\n",
    "xs = np.linspace(0,8,N)\n",
    "pdfs = stats.gamma.pdf(xs, 1.25, scale = 1 / 1.25) \n",
    "\n",
    "plt.plot(xs, pdfs, linewidth=2, color = 'blue')\n",
    "\n",
    "## add histogram of theta samples from the second model with 160 bins\n",
    "df = out_gamma2.draws_pd()\n",
    "\n",
    "plt.hist(df['theta'], bins=160, density = True, color = 'red')\n",
    "plt.gca().set_xlabel(\"theta\")\n",
    "plt.gca().set_ylabel(\"Probability Density Function\")\n",
    "plt.show()"
   ]
  },
  {
   "cell_type": "markdown",
   "metadata": {},
   "source": [
    "## Excercise 4 -  Selection of parameters using equation solving\n",
    "\n"
   ]
  },
  {
   "cell_type": "code",
   "execution_count": 10,
   "metadata": {},
   "outputs": [
    {
     "name": "stderr",
     "output_type": "stream",
     "text": [
      "INFO:cmdstanpy:found newer exe file, not recompiling\n",
      "INFO:cmdstanpy:CmdStan start processing\n",
      "chain 1 |\u001b[34m██████████\u001b[0m| 00:00 Sampling completed"
     ]
    },
    {
     "name": "stdout",
     "output_type": "stream",
     "text": [
      "                                                                                "
     ]
    },
    {
     "name": "stderr",
     "output_type": "stream",
     "text": [
      "\n",
      "INFO:cmdstanpy:CmdStan done processing.\n"
     ]
    },
    {
     "name": "stdout",
     "output_type": "stream",
     "text": [
      "\n"
     ]
    },
    {
     "data": {
      "image/png": "[encoded data removed]",
      "text/plain": [
       "<Figure size 432x432 with 1 Axes>"
      ]
     },
     "metadata": {
      "needs_background": "light"
     },
     "output_type": "display_data"
    }
   ],
   "source": [
    "model_tune = CmdStanModel(stan_file='code_6.stan')\n",
    "\n",
    "# number of letters in the first name\n",
    "F = 6\n",
    "\n",
    "# number of letters in the last name\n",
    "L = 6\n",
    " \n",
    "# initial guess for the equation solving\n",
    "y0 = 1\n",
    "\n",
    "data={'y_guess':[y0],\n",
    "        'theta':[(F+L)/2]}\n",
    "tunes = model_tune.sample(data=data, fixed_param=True, iter_sampling=1, iter_warmup=0, chains = 1)\n",
    "\n",
    "sigma = tunes.draws_pd()['sigma'][0]\n",
    "half_normal = np.abs(np.random.normal(0, sigma, 1000))\n",
    "x_line = np.array([(F+L)/2, (F+L)/2])\n",
    "y_line = np.array([0, 1])\n",
    "\n",
    "plt.figure(figsize = (6,6))\n",
    "plt.hist(half_normal, density=True)\n",
    "plt.plot(x_line, y_line)\n",
    "plt.show()\n"
   ]
  },
  {
   "cell_type": "markdown",
   "metadata": {},
   "source": [
    "## Excercise 5 - different methods of defining models\n"
   ]
  },
  {
   "cell_type": "code",
   "execution_count": 11,
   "metadata": {},
   "outputs": [
    {
     "ename": "SyntaxError",
     "evalue": "invalid syntax (3391715747.py, line 5)",
     "output_type": "error",
     "traceback": [
      "\u001b[0;36m  Input \u001b[0;32mIn [11]\u001b[0;36m\u001b[0m\n\u001b[0;31m    seed = #integer, your date of birth in the DDMMYYYY format without leading zero (or if you are GPRD weary, use any other date you wish)\u001b[0m\n\u001b[0m           ^\u001b[0m\n\u001b[0;31mSyntaxError\u001b[0m\u001b[0;31m:\u001b[0m invalid syntax\n"
     ]
    }
   ],
   "source": [
    "model_samp_st = CmdStanModel(stan_file='code_7.stan')\n",
    "model_log_target = CmdStanModel(stan_file='code_8.stan')\n",
    "model_log_target_ind = CmdStanModel(stan_file='code_9.stan')\n",
    "data = {'N': F}\n",
    "seed = #integer, your date of birth in the DDMMYYYY format without leading zero (or if you are GPRD weary, use any other date you wish)\n",
    "result_1 = model_samp_st.sample(data=data,seed=seed)\n",
    "result_2 = model_log_target(data=data,seed=seed)\n",
    "result_3 = model_log_target_ind(data=data,seed=seed)\n"
   ]
  },
  {
   "cell_type": "code",
   "execution_count": null,
   "metadata": {},
   "outputs": [],
   "source": [
    "az.plot_density([result_1,result_2,result_3])\n",
    "plt.show()"
   ]
  },
  {
   "cell_type": "markdown",
   "metadata": {},
   "source": [
    "## Excercise 6 - generated quantities post sampling"
   ]
  },
  {
   "cell_type": "code",
   "execution_count": null,
   "metadata": {},
   "outputs": [],
   "source": [
    "model_gq = CmdStanModel(stan_file='code_10.stan')\n",
    "# fill in with chosen result from previous excercise\n",
    "mean_of_y = model_gq.generate_quantities(data=data,\n",
    "                                        mcmc_sample = )\n",
    "# investigate the output and plot histogram of mean_y variable"
   ]
  }
 ],
 "metadata": {
  "kernelspec": {
   "display_name": "Python 3 (ipykernel)",
   "language": "python",
   "name": "python3"
  },
  "language_info": {
   "codemirror_mode": {
    "name": "ipython",
    "version": 3
   },
   "file_extension": ".py",
   "mimetype": "text/x-python",
   "name": "python",
   "nbconvert_exporter": "python",
   "pygments_lexer": "ipython3",
   "version": "3.9.11"
  },
  "orig_nbformat": 2
 },
 "nbformat": 4,
 "nbformat_minor": 2
}
