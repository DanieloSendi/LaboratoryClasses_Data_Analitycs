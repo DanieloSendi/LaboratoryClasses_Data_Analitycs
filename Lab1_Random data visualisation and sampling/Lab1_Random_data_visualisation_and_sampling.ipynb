{
 "cells": [
  {
   "attachments": {},
   "cell_type": "markdown",
   "metadata": {},
   "source": [
    "TASK2"
   ]
  },
  {
   "cell_type": "code",
   "execution_count": 25,
   "metadata": {},
   "outputs": [],
   "source": [
    "import numpy\n",
    "\n",
    "\n",
    "array1 = numpy.random.uniform(0, 1, 1000)\n",
    "#print(array1)\n",
    "\n",
    "array2 = numpy.random.normal(0, 1, 1000)\n",
    "#print(array2)\n",
    "\n",
    "array3 = numpy.random.normal(0, 10, 1000)\n",
    "#print(array3)\n",
    "\n",
    "#array4_a = numpy.random.beta(0, 0, 1000)\n",
    "#print(array4_a)\n",
    "#do not work,  a <= 0 !!!\n",
    "\n",
    "array4_b = numpy.random.beta(2, 2, 1000)\n",
    "#print(array4_b)\n",
    "\n",
    "array4_c = numpy.random.beta(3, 9, 1000)\n",
    "#print(array4_c)\n",
    "\n",
    "mean = (0, 0)\n",
    "cov = [[1, 0], [0, 1]]\n",
    "array5_a = numpy.random.multivariate_normal(mean, cov, 10000)\n",
    "#print(array5_a)\n",
    "\n",
    "mean = (0, 0)\n",
    "cov2 = [[2, 1], [1, 2]]\n",
    "array5_b = numpy.random.multivariate_normal(mean, cov2, 10000)\n",
    "#print(array5_b)"
   ]
  },
  {
   "attachments": {},
   "cell_type": "markdown",
   "metadata": {},
   "source": [
    "TASK3"
   ]
  },
  {
   "cell_type": "code",
   "execution_count": 26,
   "metadata": {},
   "outputs": [],
   "source": [
    "import numpy\n",
    "import matplotlib.pyplot as plt\n",
    "\n",
    "numpy.histogram()"
   ]
  },
  {
   "attachments": {},
   "cell_type": "markdown",
   "metadata": {},
   "source": [
    "TASK4"
   ]
  },
  {
   "cell_type": "code",
   "execution_count": 27,
   "metadata": {},
   "outputs": [
    {
     "ename": "ModuleNotFoundError",
     "evalue": "No module named 'matplotlib'",
     "output_type": "error",
     "traceback": [
      "\u001b[1;31m---------------------------------------------------------------------------\u001b[0m",
      "\u001b[1;31mModuleNotFoundError\u001b[0m                       Traceback (most recent call last)",
      "Cell \u001b[1;32mIn[27], line 2\u001b[0m\n\u001b[0;32m      1\u001b[0m \u001b[39mimport\u001b[39;00m \u001b[39mnumpy\u001b[39;00m\n\u001b[1;32m----> 2\u001b[0m \u001b[39mimport\u001b[39;00m \u001b[39mmatplotlib\u001b[39;00m\u001b[39m.\u001b[39;00m\u001b[39mpyplot\u001b[39;00m \u001b[39mas\u001b[39;00m \u001b[39mplt\u001b[39;00m\n",
      "\u001b[1;31mModuleNotFoundError\u001b[0m: No module named 'matplotlib'"
     ]
    }
   ],
   "source": [
    "# import numpy\n",
    "# import matplotlib.pyplot as plt\n",
    "\n"
   ]
  },
  {
   "attachments": {},
   "cell_type": "markdown",
   "metadata": {},
   "source": [
    "TASK5"
   ]
  },
  {
   "cell_type": "code",
   "execution_count": null,
   "metadata": {},
   "outputs": [],
   "source": []
  },
  {
   "attachments": {},
   "cell_type": "markdown",
   "metadata": {},
   "source": [
    "TASK6"
   ]
  },
  {
   "cell_type": "code",
   "execution_count": null,
   "metadata": {},
   "outputs": [],
   "source": []
  }
 ],
 "metadata": {
  "kernelspec": {
   "display_name": "Python 3",
   "language": "python",
   "name": "python3"
  },
  "language_info": {
   "codemirror_mode": {
    "name": "ipython",
    "version": 3
   },
   "file_extension": ".py",
   "mimetype": "text/x-python",
   "name": "python",
   "nbconvert_exporter": "python",
   "pygments_lexer": "ipython3",
   "version": "3.11.2"
  },
  "orig_nbformat": 4
 },
 "nbformat": 4,
 "nbformat_minor": 2
}
