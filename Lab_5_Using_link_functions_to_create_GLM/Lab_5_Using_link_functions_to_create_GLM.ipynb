{
 "cells": [
  {
   "attachments": {},
   "cell_type": "markdown",
   "metadata": {},
   "source": [
    "# Lab 5 - Using link functions to create generalized linear models"
   ]
  },
  {
   "cell_type": "code",
   "execution_count": null,
   "metadata": {},
   "outputs": [],
   "source": [
    "from cmdstanpy import CmdStanModel\n",
    "import arviz as az\n",
    "import numpy as np\n",
    "import scipy.stats as stats\n",
    "import scipy.stats as norm\n",
    "import matplotlib.pyplot as plt\n",
    "import pandas as pd\n",
    "\n",
    "dark=\"#EECA02\"\n",
    "dark_highlight=\"#BB9700\""
   ]
  },
  {
   "cell_type": "code",
   "execution_count": null,
   "metadata": {},
   "outputs": [],
   "source": [
    "# _BASE_URL = \"https://raw.githubusercontent.com/KAIR-ISZ/lectures/main/Data%20Analytics/Lab%205/Airline_data.csv\"\n",
    "# AIRPLANE_DATASET_PATH = f\"{_BASE_URL}/Airline_data.csv\"\n",
    "# df = pd.read_csv(AIRPLANE_DATASET_PATH, sep=';', header=0)\n",
    "# df.head()\n",
    "\n",
    "data = pd.read_csv('https://raw.githubusercontent.com/KAIR-ISZ/lectures/main/Data%20Analytics/Lab%205/Airline_data.csv')\n",
    "data.head()\n",
    "display(data)\n",
    "print(data.describe())\n"
   ]
  },
  {
   "attachments": {},
   "cell_type": "markdown",
   "metadata": {},
   "source": [
    "## Model for accidents\n",
    "Our considered model were (assuming y<sub>i</sub>  is the number of accidents in given year):\n",
    "\n",
    "    \n",
    "$$ y_i \\sim \\mathrm{Poisson}(\\lambda) $$\n",
    "\n",
    "that is one fixed &lambda; for all years i.e. number of accidents is random independent on year where it happens"
   ]
  },
  {
   "attachments": {},
   "cell_type": "markdown",
   "metadata": {},
   "source": [
    "### Prior predictive distribution"
   ]
  },
  {
   "cell_type": "code",
   "execution_count": null,
   "metadata": {},
   "outputs": [],
   "source": [
    "model_prior=CmdStanModel(stan_file='airline_FA_ppc.stan')\n",
    "\n",
    "ppc = model_prior.sample(data=dict(N=len(data), \n",
    "                         Miles_flown=data[\"Miles flown [100 mln miles]\"].values))\n",
    "ppc.summary()"
   ]
  },
  {
   "cell_type": "code",
   "execution_count": null,
   "metadata": {},
   "outputs": [],
   "source": [
    "ppc_pd = ppc.draws_pd()\n",
    "fig = plt.figure(figsize=(10, 7))\n",
    "\n",
    "ppc_pd[\"y_mean\"] = ppc_pd[[f\"y[{i}]\" \n",
    "                           for i in range(1, 11)]].mean(axis=1)\n",
    "ppc_pd[\"y_mean\"].hist(bins='auto', color=dark,edgecolor=dark_highlight,linewidth=2)\n",
    "plt.bar(data[\"Fatal accidents\"], \n",
    "        [50 for _ in range(data[\"Fatal accidents\"].size)], color=\"red\")\n",
    "plt.show()\n"
   ]
  },
  {
   "attachments": {},
   "cell_type": "markdown",
   "metadata": {},
   "source": [
    "## Modelling for accidents, considering miles\n",
    "It is rather logical, that number of accidents should be related to number of miles flown. We considered model were (assuming y<sub>i</sub>  is the number of accidents in given year):\n",
    "$$ y_i \\sim \\mathrm{Poisson}(\\theta* n_i) $$\n",
    "\n",
    "where n<sub>i</sub> is the ammount of miles flown that year."
   ]
  }
 ],
 "metadata": {
  "kernelspec": {
   "display_name": "Python 3",
   "language": "python",
   "name": "python3"
  },
  "language_info": {
   "codemirror_mode": {
    "name": "ipython",
    "version": 3
   },
   "file_extension": ".py",
   "mimetype": "text/x-python",
   "name": "python",
   "nbconvert_exporter": "python",
   "pygments_lexer": "ipython3",
   "version": "3.9.11"
  },
  "orig_nbformat": 4
 },
 "nbformat": 4,
 "nbformat_minor": 2
}
