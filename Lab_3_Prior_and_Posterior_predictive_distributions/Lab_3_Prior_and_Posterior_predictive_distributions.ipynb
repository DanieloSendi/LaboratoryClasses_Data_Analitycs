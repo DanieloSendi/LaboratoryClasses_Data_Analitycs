{
 "cells": [
  {
   "attachments": {},
   "cell_type": "markdown",
   "metadata": {},
   "source": [
    "# Binomial model"
   ]
  },
  {
   "cell_type": "code",
   "execution_count": 99,
   "metadata": {
    "vscode": {
     "languageId": "python"
    }
   },
   "outputs": [],
   "source": [
    "from cmdstanpy import CmdStanModel\n",
    "import pandas as pd\n",
    "import arviz as az \n",
    "import numpy as np\n",
    "import matplotlib.pyplot as plt\n",
    "import scipy.stats as stats"
   ]
  },
  {
   "attachments": {},
   "cell_type": "markdown",
   "metadata": {},
   "source": [
    "## Exercise 1 - Modeling prior predictive distribution"
   ]
  },
  {
   "cell_type": "code",
   "execution_count": 100,
   "metadata": {
    "vscode": {
     "languageId": "python"
    }
   },
   "outputs": [
    {
     "name": "stderr",
     "output_type": "stream",
     "text": [
      "INFO:cmdstanpy:found newer exe file, not recompiling\n"
     ]
    }
   ],
   "source": [
    "gen_quant = CmdStanModel(stan_file='Lab3_ex1.stan')"
   ]
  },
  {
   "cell_type": "code",
   "execution_count": 101,
   "metadata": {
    "vscode": {
     "languageId": "python"
    }
   },
   "outputs": [
    {
     "name": "stderr",
     "output_type": "stream",
     "text": [
      "INFO:cmdstanpy:CmdStan start processing\n",
      "chain 1 |\u001b[34m██████████\u001b[0m| 00:00 Sampling completed"
     ]
    },
    {
     "name": "stdout",
     "output_type": "stream",
     "text": [
      "                                                                                "
     ]
    },
    {
     "name": "stderr",
     "output_type": "stream",
     "text": [
      "\n",
      "INFO:cmdstanpy:CmdStan done processing.\n"
     ]
    },
    {
     "name": "stdout",
     "output_type": "stream",
     "text": [
      "\n"
     ]
    },
    {
     "data": {
      "image/png": "[encoded data removed]",
      "text/plain": [
       "<Figure size 432x288 with 1 Axes>"
      ]
     },
     "metadata": {
      "needs_background": "light"
     },
     "output_type": "display_data"
    },
    {
     "name": "stdout",
     "output_type": "stream",
     "text": [
      "0.2048466257668712\n"
     ]
    }
   ],
   "source": [
    "# Generate 1000 samples (pair of p an y)\n",
    "samples = gen_quant.sample(fixed_param=True, \n",
    "                            iter_sampling=1000, \n",
    "                            iter_warmup=0, \n",
    "                            chains = 1)\n",
    "\n",
    "# Get the generated quantities data as a pandas DataFrame\n",
    "df = samples.draws_pd()\n",
    "\n",
    "# Compute ratio of allergic reactions for each sample \n",
    "ratios =df['y'] / df['N']\n",
    "\n",
    "# Create a histogram\n",
    "plt.hist(ratios, bins = 'auto', density = True)\n",
    "plt.xlabel('Ratio of Allergic Reactions')\n",
    "plt.ylabel('Frequency')\n",
    "plt.show()\n",
    "\n",
    "print(ratios.mean())\n",
    "# 7. After verification mean of the ratio is consistent with prior knowledge and amounts to ~0.2"
   ]
  },
  {
   "attachments": {},
   "cell_type": "markdown",
   "metadata": {},
   "source": [
    "## Exercise 2 - Modeling posterior and posterior predictive distribution"
   ]
  },
  {
   "cell_type": "code",
   "execution_count": 102,
   "metadata": {
    "vscode": {
     "languageId": "python"
    }
   },
   "outputs": [
    {
     "name": "stderr",
     "output_type": "stream",
     "text": [
      "INFO:cmdstanpy:found newer exe file, not recompiling\n"
     ]
    }
   ],
   "source": [
    "gen_quant = CmdStanModel(stan_file='Lab3_ex2.stan')"
   ]
  },
  {
   "cell_type": "code",
   "execution_count": 107,
   "metadata": {
    "vscode": {
     "languageId": "python"
    }
   },
   "outputs": [
    {
     "name": "stderr",
     "output_type": "stream",
     "text": [
      "INFO:cmdstanpy:CmdStan start processing\n",
      "chain 1 |\u001b[34m██████████\u001b[0m| 00:00 Sampling completed"
     ]
    },
    {
     "name": "stdout",
     "output_type": "stream",
     "text": [
      "                                                                                "
     ]
    },
    {
     "name": "stderr",
     "output_type": "stream",
     "text": [
      "\n",
      "INFO:cmdstanpy:CmdStan done processing.\n"
     ]
    },
    {
     "name": "stdout",
     "output_type": "stream",
     "text": [
      "\n"
     ]
    },
    {
     "data": {
      "text/html": [
       "<div>\n",
       "<style scoped>\n",
       "    .dataframe tbody tr th:only-of-type {\n",
       "        vertical-align: middle;\n",
       "    }\n",
       "\n",
       "    .dataframe tbody tr th {\n",
       "        vertical-align: top;\n",
       "    }\n",
       "\n",
       "    .dataframe thead th {\n",
       "        text-align: right;\n",
       "    }\n",
       "</style>\n",
       "<table border=\"1\" class=\"dataframe\">\n",
       "  <thead>\n",
       "    <tr style=\"text-align: right;\">\n",
       "      <th></th>\n",
       "      <th>lp__</th>\n",
       "      <th>accept_stat__</th>\n",
       "      <th>p</th>\n",
       "      <th>y_pred</th>\n",
       "    </tr>\n",
       "  </thead>\n",
       "  <tbody>\n",
       "    <tr>\n",
       "      <th>0</th>\n",
       "      <td>0.0</td>\n",
       "      <td>0.0</td>\n",
       "      <td>0.368371</td>\n",
       "      <td>26.0</td>\n",
       "    </tr>\n",
       "    <tr>\n",
       "      <th>1</th>\n",
       "      <td>0.0</td>\n",
       "      <td>0.0</td>\n",
       "      <td>0.368371</td>\n",
       "      <td>19.0</td>\n",
       "    </tr>\n",
       "    <tr>\n",
       "      <th>2</th>\n",
       "      <td>0.0</td>\n",
       "      <td>0.0</td>\n",
       "      <td>0.368371</td>\n",
       "      <td>20.0</td>\n",
       "    </tr>\n",
       "    <tr>\n",
       "      <th>3</th>\n",
       "      <td>0.0</td>\n",
       "      <td>0.0</td>\n",
       "      <td>0.368371</td>\n",
       "      <td>21.0</td>\n",
       "    </tr>\n",
       "    <tr>\n",
       "      <th>4</th>\n",
       "      <td>0.0</td>\n",
       "      <td>0.0</td>\n",
       "      <td>0.368371</td>\n",
       "      <td>17.0</td>\n",
       "    </tr>\n",
       "    <tr>\n",
       "      <th>...</th>\n",
       "      <td>...</td>\n",
       "      <td>...</td>\n",
       "      <td>...</td>\n",
       "      <td>...</td>\n",
       "    </tr>\n",
       "    <tr>\n",
       "      <th>995</th>\n",
       "      <td>0.0</td>\n",
       "      <td>0.0</td>\n",
       "      <td>0.368371</td>\n",
       "      <td>19.0</td>\n",
       "    </tr>\n",
       "    <tr>\n",
       "      <th>996</th>\n",
       "      <td>0.0</td>\n",
       "      <td>0.0</td>\n",
       "      <td>0.368371</td>\n",
       "      <td>19.0</td>\n",
       "    </tr>\n",
       "    <tr>\n",
       "      <th>997</th>\n",
       "      <td>0.0</td>\n",
       "      <td>0.0</td>\n",
       "      <td>0.368371</td>\n",
       "      <td>16.0</td>\n",
       "    </tr>\n",
       "    <tr>\n",
       "      <th>998</th>\n",
       "      <td>0.0</td>\n",
       "      <td>0.0</td>\n",
       "      <td>0.368371</td>\n",
       "      <td>24.0</td>\n",
       "    </tr>\n",
       "    <tr>\n",
       "      <th>999</th>\n",
       "      <td>0.0</td>\n",
       "      <td>0.0</td>\n",
       "      <td>0.368371</td>\n",
       "      <td>20.0</td>\n",
       "    </tr>\n",
       "  </tbody>\n",
       "</table>\n",
       "<p>1000 rows × 4 columns</p>\n",
       "</div>"
      ],
      "text/plain": [
       "     lp__  accept_stat__         p  y_pred\n",
       "0     0.0            0.0  0.368371    26.0\n",
       "1     0.0            0.0  0.368371    19.0\n",
       "2     0.0            0.0  0.368371    20.0\n",
       "3     0.0            0.0  0.368371    21.0\n",
       "4     0.0            0.0  0.368371    17.0\n",
       "..    ...            ...       ...     ...\n",
       "995   0.0            0.0  0.368371    19.0\n",
       "996   0.0            0.0  0.368371    19.0\n",
       "997   0.0            0.0  0.368371    16.0\n",
       "998   0.0            0.0  0.368371    24.0\n",
       "999   0.0            0.0  0.368371    20.0\n",
       "\n",
       "[1000 rows x 4 columns]"
      ]
     },
     "metadata": {},
     "output_type": "display_data"
    },
    {
     "data": {
      "image/png": "[encoded data removed]",
      "text/plain": [
       "<Figure size 432x288 with 1 Axes>"
      ]
     },
     "metadata": {
      "needs_background": "light"
     },
     "output_type": "display_data"
    },
    {
     "name": "stdout",
     "output_type": "stream",
     "text": [
      "Expected value of ratio: 0.37382\n",
      "94% density interval of the predicted ratio: [0.26 0.5 ]\n",
      "Expected value of parameter p: 0.3683709999999999\n",
      "94% density interval of parameter p: [0.368371 0.368371]\n",
      "Number of simulated ratios that are smaller the average probability from traditional vaccines: 0.001\n",
      "Probability that ratio is lower than the average probability from traditional vaccines:  1e-06\n"
     ]
    }
   ],
   "source": [
    "## Generate default samples (pair of p an y)\n",
    "samples = gen_quant.sample(data={'N':50, 'y': 7}, \n",
    "                            fixed_param=True,  \n",
    "                            iter_warmup=0, \n",
    "                            chains = 1)\n",
    "N = 50\n",
    "## Compute ratio of predicted allergic reactions for each sample and create a histogram:\n",
    "df = samples.draws_pd()\n",
    "display(df)\n",
    "y_pred_ratio = df['y_pred'] / N\n",
    "parameter_p = df['p']\n",
    "\n",
    "plt.hist(y_pred_ratio, bins= 'auto', density=True, color = 'gold', edgecolor='red',linewidth=2)\n",
    "plt.title('Posterior predictive distribution')\n",
    "plt.xlabel('Ratio of allergic reactions')\n",
    "plt.ylabel('Frequency')\n",
    "plt.show()\n",
    "\n",
    "## Compute the expected value and 94% density interval of the predicted ratio,\n",
    "expected_ratio = y_pred_ratio.mean()\n",
    "interval = az.hdi(y_pred_ratio.to_numpy(), credible_interval=0.94)\n",
    "print('Expected value of ratio:', expected_ratio)\n",
    "print('94% density interval of the predicted ratio:', interval)\n",
    "\n",
    "## Compute expected value and 94% density interval of parameter p:\n",
    "expected_value_p = parameter_p.mean()\n",
    "interval_p = az.hdi(parameter_p.to_numpy(), credible_interval=0.94)\n",
    "print('Expected value of parameter p:', expected_value_p)\n",
    "print('94% density interval of parameter p:', interval_p)\n",
    "\n",
    "# count the number of simulated ratios that are smaller\n",
    "\n",
    "avg_prob = 0.2  # average probability from traditional vaccines\n",
    "count = (y_pred_ratio < avg_prob).mean() \n",
    "print('Number of simulated ratios that are smaller the average probability from traditional vaccines:', count)\n",
    "\n",
    "# Compute the probability that ratio is lower than the average probability\n",
    "probability = count / len(y_pred_ratio)\n",
    "print('Probability that ratio is lower than the average probability from traditional vaccines: ', probability)\n",
    "\n",
    "# This proportion represents the estimated probability that the ratio of predicted allergic reactions for the new vaccine\n",
    "# is lower than the average probability from traditional vaccines."
   ]
  }
 ],
 "metadata": {
  "kernelspec": {
   "display_name": "Python 3 (ipykernel)",
   "language": "python",
   "name": "python3"
  },
  "orig_nbformat": 4
 },
 "nbformat": 4,
 "nbformat_minor": 2
}
