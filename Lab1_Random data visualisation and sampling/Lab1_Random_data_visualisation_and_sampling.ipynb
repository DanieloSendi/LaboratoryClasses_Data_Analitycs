{
 "cells": [
  {
   "attachments": {},
   "cell_type": "markdown",
   "metadata": {},
   "source": [
    "TASK2"
   ]
  },
  {
   "cell_type": "code",
   "execution_count": null,
   "metadata": {},
   "outputs": [],
   "source": [
    "import numpy\n",
    "\n",
    "\n",
    "array1 = numpy.random.uniform(0, 1, 1000)\n",
    "#print(array1)\n",
    "\n",
    "array2 = numpy.random.normal(0, 1, 1000)\n",
    "#print(array2)\n",
    "\n",
    "array3 = numpy.random.normal(0, 10, 1000)\n",
    "#print(array3)\n",
    "\n",
    "#array4_a = numpy.random.beta(0, 0, 1000)\n",
    "#print(array4_a)\n",
    "#do not work,  a <= 0 !!!\n",
    "\n",
    "array4_b = numpy.random.beta(2, 2, 1000)\n",
    "#print(array4_b)\n",
    "\n",
    "array4_c = numpy.random.beta(3, 9, 1000)\n",
    "#print(array4_c)\n",
    "\n",
    "mean = (0, 0)\n",
    "cov = [[1, 0], [0, 1]]\n",
    "array5_a = numpy.random.multivariate_normal(mean, cov, 10000)\n",
    "#print(array5_a)\n",
    "\n",
    "mean = (0, 0)\n",
    "cov2 = [[2, 1], [1, 2]]\n",
    "array5_b = numpy.random.multivariate_normal(mean, cov2, 10000)\n",
    "#print(array5_b)"
   ]
  },
  {
   "attachments": {},
   "cell_type": "markdown",
   "metadata": {},
   "source": [
    "TASK3"
   ]
  },
  {
   "cell_type": "code",
   "execution_count": null,
   "metadata": {},
   "outputs": [],
   "source": []
  },
  {
   "attachments": {},
   "cell_type": "markdown",
   "metadata": {},
   "source": [
    "TASK4"
   ]
  },
  {
   "cell_type": "code",
   "execution_count": null,
   "metadata": {},
   "outputs": [],
   "source": [
    "# import numpy\n",
    "# import matplotlib.pyplot as plt\n",
    "\n"
   ]
  },
  {
   "attachments": {},
   "cell_type": "markdown",
   "metadata": {},
   "source": [
    "TASK5"
   ]
  },
  {
   "cell_type": "code",
   "execution_count": null,
   "metadata": {},
   "outputs": [],
   "source": [
    "import numpy as np\n",
    "from scipy.stats import norm, halfnorm\n",
    "\n",
    "# Set the number of samples\n",
    "n = 1000\n",
    "\n",
    "# Define the parameters\n",
    "alfa = norm.rvs(loc=2, scale=1, size=n)\n",
    "beta = norm.rvs(loc=0.2, scale=0.2, size=n)\n",
    "x = norm.rvs(loc=0, scale=3, size=n)\n",
    "sigma = halfnorm.rvs(scale=1, size=n)\n",
    "\n",
    "# Compute mi\n",
    "mi = alfa + beta*x\n",
    "\n",
    "# Sample y from Normal distribution\n",
    "y = norm.rvs(loc=mi, scale=sigma, size=n)\n",
    "\n",
    "# Take the absolute value of y\n",
    "y = np.abs(y)\n",
    "\n",
    "# Print the first 10 values of y\n",
    "print(y[:10])\n"
   ]
  },
  {
   "attachments": {},
   "cell_type": "markdown",
   "metadata": {},
   "source": [
    "TASK6"
   ]
  },
  {
   "cell_type": "code",
   "execution_count": null,
   "metadata": {},
   "outputs": [],
   "source": [
    "import numpy as np\n",
    "import matplotlib.pyplot as plt\n",
    "\n",
    "# Generate random data\n",
    "x = np.random.normal(0, 1, size=1000)\n",
    "y = 2 + 0.5*x + np.random.normal(0, 1, size=1000)\n",
    "\n",
    "# Generate random alfa and beta values\n",
    "alfas = np.random.normal(0, 1, size=100)\n",
    "betas = np.random.normal(0, 1, size=100)\n",
    "\n",
    "# Plot the data and the lines of y = alfa + beta*x\n",
    "fig, ax = plt.subplots(figsize=(8, 6))\n",
    "\n",
    "ax.scatter(x, y, s=10, alpha=0.5, label='Data')\n",
    "\n",
    "for alfa, beta in zip(alfas, betas):\n",
    "    line_x = np.linspace(-6, 6, 100)\n",
    "    line_y = alfa + beta*line_x\n",
    "    ax.plot(line_x, line_y, c='r', alpha=0.1)\n",
    "\n",
    "ax.set_xlabel('X')\n",
    "ax.set_ylabel('Y')\n",
    "ax.legend()\n",
    "\n",
    "plt.show()\n"
   ]
  }
 ],
 "metadata": {
  "kernelspec": {
   "display_name": "Python 3",
   "language": "python",
   "name": "python3"
  },
  "language_info": {
   "codemirror_mode": {
    "name": "ipython",
    "version": 3
   },
   "file_extension": ".py",
   "mimetype": "text/x-python",
   "name": "python",
   "nbconvert_exporter": "python",
   "pygments_lexer": "ipython3",
   "version": "3.11.2"
  },
  "orig_nbformat": 4
 },
 "nbformat": 4,
 "nbformat_minor": 2
}
