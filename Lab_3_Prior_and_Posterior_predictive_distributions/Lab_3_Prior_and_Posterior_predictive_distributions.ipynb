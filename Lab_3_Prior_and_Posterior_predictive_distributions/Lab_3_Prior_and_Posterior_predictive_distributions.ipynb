{
 "cells": [
  {
   "cell_type": "code",
   "execution_count": 4,
   "metadata": {},
   "outputs": [],
   "source": [
    "from cmdstanpy import CmdStanModel\n",
    "import pandas as pd\n",
    "import arviz as az \n",
    "import numpy as np\n",
    "import matplotlib.pyplot as plt\n",
    "import scipy.stats as stats"
   ]
  },
  {
   "attachments": {},
   "cell_type": "markdown",
   "metadata": {},
   "source": [
    "## Exercise 1 - Modeling prior predictive distribution"
   ]
  },
  {
   "cell_type": "code",
   "execution_count": 7,
   "metadata": {},
   "outputs": [
    {
     "name": "stderr",
     "output_type": "stream",
     "text": [
      "INFO:cmdstanpy:compiling stan file /home/LaboratoryClasses_Data_Analitycs/Lab_3_Prior_and_Posterior_predictive_distributions/Lab3_ex1.stan to exe file /home/LaboratoryClasses_Data_Analitycs/Lab_3_Prior_and_Posterior_predictive_distributions/Lab3_ex1\n",
      "ERROR:cmdstanpy:Stan program failed to compile:\n",
      "WARNING:cmdstanpy:\n",
      "--- Translating Stan model to C++ code ---\n",
      "bin/stanc  --o=/home/LaboratoryClasses_Data_Analitycs/Lab_3_Prior_and_Posterior_predictive_distributions/Lab3_ex1.hpp /home/LaboratoryClasses_Data_Analitycs/Lab_3_Prior_and_Posterior_predictive_distributions/Lab3_ex1.stan\n",
      "Warning in '/home/LaboratoryClasses_Data_Analitycs/Lab_3_Prior_and_Posterior_predictive_distributions/Lab3_ex1.stan', line 3, column 4: Declaration\n",
      "    of arrays by placing brackets after a variable name is deprecated and\n",
      "    will be removed in Stan 2.32.0. Instead use the array keyword before the\n",
      "    type. This can be changed automatically using the auto-format flag to\n",
      "    stanc\n",
      "Syntax error in '/home/LaboratoryClasses_Data_Analitycs/Lab_3_Prior_and_Posterior_predictive_distributions/Lab3_ex1.stan', line 11, column 21 to column 22, parsing error:\n",
      "   -------------------------------------------------\n",
      "     9:      int y;//number of successes\n",
      "    10:      real p; //probability of allergic reaction\n",
      "    11:      real p = p_rng((0,121));\n",
      "                              ^\n",
      "    12:     \n",
      "    13:  }\n",
      "   -------------------------------------------------\n",
      "\n",
      "Expression or range of expressions followed by \")\" expected after \"(\".\n",
      "make: *** [make/program:50: /home/LaboratoryClasses_Data_Analitycs/Lab_3_Prior_and_Posterior_predictive_distributions/Lab3_ex1.hpp] Error 1\n",
      "\n",
      "Command ['make', '/home/LaboratoryClasses_Data_Analitycs/Lab_3_Prior_and_Posterior_predictive_distributions/Lab3_ex1']\n",
      "\terror during processing No such file or directory\n",
      "\n"
     ]
    },
    {
     "ename": "ValueError",
     "evalue": "Unable to compile Stan model file: /home/LaboratoryClasses_Data_Analitycs/Lab_3_Prior_and_Posterior_predictive_distributions/Lab3_ex1.stan.",
     "output_type": "error",
     "traceback": [
      "\u001b[0;31m---------------------------------------------------------------------------\u001b[0m",
      "\u001b[0;31mValueError\u001b[0m                                Traceback (most recent call last)",
      "\u001b[1;32m/home/LaboratoryClasses_Data_Analitycs/Lab_3_Prior_and_Posterior_predictive_distributions/Lab_3_Prior_and_Posterior_predictive_distributions.ipynb Cell 3\u001b[0m in \u001b[0;36m<cell line: 1>\u001b[0;34m()\u001b[0m\n\u001b[0;32m----> <a href='vscode-notebook-cell://attached-container%2B7b22636f6e7461696e65724e616d65223a222f6d795f636f6e7461696e6572227d/home/LaboratoryClasses_Data_Analitycs/Lab_3_Prior_and_Posterior_predictive_distributions/Lab_3_Prior_and_Posterior_predictive_distributions.ipynb#W2sdnNjb2RlLXJlbW90ZQ%3D%3D?line=0'>1</a>\u001b[0m gen_quant \u001b[39m=\u001b[39m CmdStanModel(stan_file\u001b[39m=\u001b[39;49m\u001b[39m'\u001b[39;49m\u001b[39mLab3_ex1.stan\u001b[39;49m\u001b[39m'\u001b[39;49m)\n\u001b[1;32m      <a href='vscode-notebook-cell://attached-container%2B7b22636f6e7461696e65724e616d65223a222f6d795f636f6e7461696e6572227d/home/LaboratoryClasses_Data_Analitycs/Lab_3_Prior_and_Posterior_predictive_distributions/Lab_3_Prior_and_Posterior_predictive_distributions.ipynb#W2sdnNjb2RlLXJlbW90ZQ%3D%3D?line=2'>3</a>\u001b[0m p \u001b[39m=\u001b[39m gen_quant\u001b[39m.\u001b[39msample(data\u001b[39m=\u001b[39m{\u001b[39m'\u001b[39m\u001b[39mM\u001b[39m\u001b[39m'\u001b[39m: N}, \n\u001b[1;32m      <a href='vscode-notebook-cell://attached-container%2B7b22636f6e7461696e65724e616d65223a222f6d795f636f6e7461696e6572227d/home/LaboratoryClasses_Data_Analitycs/Lab_3_Prior_and_Posterior_predictive_distributions/Lab_3_Prior_and_Posterior_predictive_distributions.ipynb#W2sdnNjb2RlLXJlbW90ZQ%3D%3D?line=3'>4</a>\u001b[0m                             fixed_param\u001b[39m=\u001b[39m\u001b[39mTrue\u001b[39;00m,\n\u001b[1;32m      <a href='vscode-notebook-cell://attached-container%2B7b22636f6e7461696e65724e616d65223a222f6d795f636f6e7461696e6572227d/home/LaboratoryClasses_Data_Analitycs/Lab_3_Prior_and_Posterior_predictive_distributions/Lab_3_Prior_and_Posterior_predictive_distributions.ipynb#W2sdnNjb2RlLXJlbW90ZQ%3D%3D?line=4'>5</a>\u001b[0m                             iter_sampling\u001b[39m=\u001b[39m\u001b[39m1000\u001b[39m, \n\u001b[1;32m      <a href='vscode-notebook-cell://attached-container%2B7b22636f6e7461696e65724e616d65223a222f6d795f636f6e7461696e6572227d/home/LaboratoryClasses_Data_Analitycs/Lab_3_Prior_and_Posterior_predictive_distributions/Lab_3_Prior_and_Posterior_predictive_distributions.ipynb#W2sdnNjb2RlLXJlbW90ZQ%3D%3D?line=5'>6</a>\u001b[0m                             iter_warmup\u001b[39m=\u001b[39m\u001b[39m0\u001b[39m, \n\u001b[1;32m      <a href='vscode-notebook-cell://attached-container%2B7b22636f6e7461696e65724e616d65223a222f6d795f636f6e7461696e6572227d/home/LaboratoryClasses_Data_Analitycs/Lab_3_Prior_and_Posterior_predictive_distributions/Lab_3_Prior_and_Posterior_predictive_distributions.ipynb#W2sdnNjb2RlLXJlbW90ZQ%3D%3D?line=6'>7</a>\u001b[0m                             chains \u001b[39m=\u001b[39m \u001b[39m1\u001b[39m)\n",
      "File \u001b[0;32m/usr/local/lib/python3.9/site-packages/cmdstanpy/model.py:210\u001b[0m, in \u001b[0;36mCmdStanModel.__init__\u001b[0;34m(self, model_name, stan_file, exe_file, compile, stanc_options, cpp_options, user_header)\u001b[0m\n\u001b[1;32m    208\u001b[0m \u001b[39mself\u001b[39m\u001b[39m.\u001b[39mcompile(force\u001b[39m=\u001b[39m\u001b[39mstr\u001b[39m(\u001b[39mcompile\u001b[39m)\u001b[39m.\u001b[39mlower() \u001b[39m==\u001b[39m \u001b[39m'\u001b[39m\u001b[39mforce\u001b[39m\u001b[39m'\u001b[39m)\n\u001b[1;32m    209\u001b[0m \u001b[39mif\u001b[39;00m \u001b[39mself\u001b[39m\u001b[39m.\u001b[39m_exe_file \u001b[39mis\u001b[39;00m \u001b[39mNone\u001b[39;00m:\n\u001b[0;32m--> 210\u001b[0m     \u001b[39mraise\u001b[39;00m \u001b[39mValueError\u001b[39;00m(\n\u001b[1;32m    211\u001b[0m         \u001b[39m'\u001b[39m\u001b[39mUnable to compile Stan model file: \u001b[39m\u001b[39m{}\u001b[39;00m\u001b[39m.\u001b[39m\u001b[39m'\u001b[39m\u001b[39m.\u001b[39mformat(\n\u001b[1;32m    212\u001b[0m             \u001b[39mself\u001b[39m\u001b[39m.\u001b[39m_stan_file\n\u001b[1;32m    213\u001b[0m         )\n\u001b[1;32m    214\u001b[0m     )\n",
      "\u001b[0;31mValueError\u001b[0m: Unable to compile Stan model file: /home/LaboratoryClasses_Data_Analitycs/Lab_3_Prior_and_Posterior_predictive_distributions/Lab3_ex1.stan."
     ]
    }
   ],
   "source": [
    "gen_quant = CmdStanModel(stan_file='Lab3_ex1.stan')\n",
    "\n",
    "p = gen_quant.sample(data={'M': N}, \n",
    "                            fixed_param=True,\n",
    "                            iter_sampling=1000, \n",
    "                            iter_warmup=0, \n",
    "                            chains = 1)"
   ]
  },
  {
   "cell_type": "markdown",
   "metadata": {},
   "source": []
  }
 ],
 "metadata": {
  "kernelspec": {
   "display_name": "Python 3 (ipykernel)",
   "language": "python",
   "name": "python3"
  },
  "orig_nbformat": 4
 },
 "nbformat": 4,
 "nbformat_minor": 2
}
